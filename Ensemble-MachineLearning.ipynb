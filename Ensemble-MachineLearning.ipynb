{
  "cells": [
    {
      "cell_type": "markdown",
      "metadata": {
        "id": "EZgyqEfpcURN"
      },
      "source": [
        "# DATA SCIENCE & AI (FIAP MBA) - Sabrina Otoni da Silva - 2023\n",
        "\n",
        "### Projeto nº 17\n",
        "\n",
        "### Professor: Ahirton Lopes (Machine Learning: Aula 7) -- https://github.com/ahirtonlopes/Mastering-Machine-Learning\n",
        "\n",
        "### Técnicas de Ensembles"
      ]
    },
    {
      "cell_type": "markdown",
      "metadata": {
        "_kg_hide-input": true,
        "id": "QLP0hSAkWVU8"
      },
      "source": [
        "\n",
        "1. [Introdução](#1)\n",
        "    \n",
        "1. [**Técnicas de Ensemble**](#2)\n",
        "    \n",
        "    2.1 [**Max Voting / Voting Classifier**](#21)\n",
        "    \n",
        "    2.2 [**Averaging**](#22)\n",
        "    \n",
        "    2.3 [**Weighted Averaging**](#23)\n",
        "    \n",
        "    2.4 [**Stacking**](#24)\n",
        "    \n",
        "    2.5 [**Blending**](#25)\n",
        "    \n",
        "    2.6 [**Bagging**](#26)\n",
        "    \n",
        "    2.7 [**Boosting**](#27)\n",
        "\n",
        "1. [Referências](#3)  \n",
        "\n",
        "1. [Conclusão](#4)  \n",
        "\n",
        "    \n",
        "# 1. Introdução <a id=\"1\"></a> <br>\n",
        "    \n",
        "**Modelos de Ensemble** têm por. ideia principal melhorar os resultados advindos de algoritmos em ML ao combinar vários modelos de modo a melhor a performance preditiva quando comparado a um modelo único.  \n",
        "\n",
        "![](https://i.imgur.com/L2Jaqm8.png)\n",
        "    \n",
        "# 2. Ensemble Techniques <a id=\"2\"></a> <br>\n",
        "\n",
        "## 2.1 Max Voting / Voting Classifier <a id=\"2.1\"></a> <br>\n",
        "\n",
        "Vamos usar o dataset IRIS para demonstrar um voting classifier."
      ]
    },
    {
      "cell_type": "code",
      "execution_count": 1,
      "metadata": {
        "_kg_hide-input": true,
        "colab": {
          "base_uri": "https://localhost:8080/",
          "height": 35
        },
        "id": "XL2cwdvFWVVC",
        "outputId": "2934a851-9a54-4915-8da3-65d3876adcb5",
        "trusted": true
      },
      "outputs": [
        {
          "data": {
            "text/plain": [
              "<Figure size 1280x960 with 0 Axes>"
            ]
          },
          "metadata": {},
          "output_type": "display_data"
        }
      ],
      "source": [
        "# imports\n",
        "from sklearn.ensemble import VotingClassifier ,BaggingClassifier, ExtraTreesClassifier, RandomForestClassifier\n",
        "from sklearn.ensemble import AdaBoostClassifier,GradientBoostingClassifier\n",
        "from sklearn.metrics import accuracy_score\n",
        "from numpy import mean,std\n",
        "from sklearn.datasets import make_classification\n",
        "from sklearn.model_selection import cross_val_score,RepeatedStratifiedKFold,train_test_split\n",
        "from sklearn.linear_model import LogisticRegression,RidgeClassifier\n",
        "from sklearn.neighbors import KNeighborsClassifier\n",
        "from sklearn.tree import DecisionTreeClassifier\n",
        "from sklearn.svm import SVC\n",
        "from sklearn.naive_bayes import GaussianNB\n",
        "from matplotlib import pyplot\n",
        "from sklearn.datasets import load_wine,load_iris\n",
        "from matplotlib.pyplot import figure\n",
        "figure(num=2, figsize=(16, 12), dpi=80, facecolor='w', edgecolor='k')\n",
        "import xgboost as xgb\n",
        "from sklearn.feature_selection import SelectKBest,f_regression\n",
        "from sklearn.linear_model import LinearRegression,BayesianRidge,ElasticNet,Lasso,SGDRegressor,Ridge\n",
        "from sklearn.kernel_ridge import KernelRidge\n",
        "from sklearn.preprocessing import LabelEncoder,OneHotEncoder,RobustScaler,StandardScaler\n",
        "from sklearn.pipeline import make_pipeline,Pipeline\n",
        "from sklearn.metrics import mean_squared_error\n",
        "from sklearn.decomposition import PCA,KernelPCA\n",
        "from sklearn.ensemble import ExtraTreesRegressor,GradientBoostingRegressor,RandomForestRegressor,VotingClassifier\n",
        "from sklearn.model_selection import cross_val_score,KFold,GridSearchCV,RandomizedSearchCV,StratifiedKFold,train_test_split\n",
        "from sklearn.base import BaseEstimator,clone,TransformerMixin,RegressorMixin\n",
        "from sklearn.svm import LinearSVR,SVR\n",
        "#import xgboost\n",
        "from xgboost import XGBRegressor\n",
        "import pandas as pd\n",
        "import numpy as np\n",
        "import matplotlib.pyplot as plt\n",
        "import matplotlib\n",
        "import seaborn as sns\n",
        "import warnings\n",
        "warnings.filterwarnings('ignore')\n",
        "from scipy.stats import skew\n",
        "from scipy.stats.stats import pearsonr\n",
        "%matplotlib inline\n",
        "seed = 1075\n",
        "np.random.seed(seed)"
      ]
    },
    {
      "cell_type": "code",
      "execution_count": 2,
      "metadata": {
        "id": "iircK8x8WVVD",
        "trusted": true
      },
      "outputs": [],
      "source": [
        "# carregando o iris dataset\n",
        "iris = load_iris()\n",
        "X = iris.data[:, :4]\n",
        "Y = iris.target"
      ]
    },
    {
      "cell_type": "code",
      "execution_count": 3,
      "metadata": {
        "id": "4uC9FbcNWVVE",
        "trusted": true
      },
      "outputs": [],
      "source": [
        "X_train, X_test, y_train, y_test = train_test_split(X,Y,test_size = 0.20,random_state = 42)"
      ]
    },
    {
      "cell_type": "code",
      "execution_count": 4,
      "metadata": {
        "id": "0MERdZCmWVVE",
        "trusted": true
      },
      "outputs": [],
      "source": [
        "# Ensemble de modelos\n",
        "estimator = []\n",
        "estimator.append(('LR',LogisticRegression(solver ='lbfgs',multi_class ='multinomial',max_iter = 200)))\n",
        "estimator.append(('SVC', SVC(gamma ='auto', probability = True)))\n",
        "estimator.append(('DTC', DecisionTreeClassifier()))"
      ]
    },
    {
      "cell_type": "markdown",
      "metadata": {
        "id": "fwAq_HHZWVVF"
      },
      "source": [
        "**Voting Classifier** suporta dois tipos de \"voto\"\n",
        "\n",
        "**Hard Voting:**\n",
        "![](https://image.slidesharecdn.com/7-180514114334/95/ensemble-learning-and-random-forests-12-638.jpg?cb=1527755412)"
      ]
    },
    {
      "cell_type": "code",
      "execution_count": 5,
      "metadata": {
        "id": "Y5HB7Qy5WVVF",
        "trusted": true
      },
      "outputs": [],
      "source": [
        "# Voting Classifier com hard voting\n",
        "hard_voting = VotingClassifier(estimators = estimator, voting ='hard')\n",
        "hard_voting.fit(X_train, y_train)\n",
        "y_pred = hard_voting.predict(X_test)"
      ]
    },
    {
      "cell_type": "code",
      "execution_count": 6,
      "metadata": {
        "colab": {
          "base_uri": "https://localhost:8080/"
        },
        "id": "ZpAxD6CrWVVG",
        "outputId": "bad94ec4-abaa-4858-89f2-67084d184772",
        "trusted": true
      },
      "outputs": [
        {
          "name": "stdout",
          "output_type": "stream",
          "text": [
            "Hard Voting Score  1\n"
          ]
        }
      ],
      "source": [
        "# accuracy_score metric de modo a predizer Accuracy\n",
        "score = accuracy_score(y_test, y_pred)\n",
        "print(\"Hard Voting Score % d\" % score)"
      ]
    },
    {
      "cell_type": "markdown",
      "metadata": {
        "id": "GYYURHtNWVVG"
      },
      "source": [
        "**Soft Voting:**"
      ]
    },
    {
      "cell_type": "code",
      "execution_count": 7,
      "metadata": {
        "id": "mWwwYMLxWVVG",
        "trusted": true
      },
      "outputs": [],
      "source": [
        "# Voting Classifier com soft voting\n",
        "soft_voting = VotingClassifier(estimators = estimator, voting ='soft')\n",
        "soft_voting.fit(X_train, y_train)\n",
        "y_pred = soft_voting.predict(X_test)"
      ]
    },
    {
      "cell_type": "code",
      "execution_count": 8,
      "metadata": {
        "colab": {
          "base_uri": "https://localhost:8080/"
        },
        "id": "Vl4y3iZwWVVH",
        "outputId": "34f7f91d-1994-4527-d0b9-f8d9d6ffec7c",
        "trusted": true
      },
      "outputs": [
        {
          "name": "stdout",
          "output_type": "stream",
          "text": [
            "Soft Voting Score  1\n"
          ]
        }
      ],
      "source": [
        "# Usando accuracy_score\n",
        "score = accuracy_score(y_test, y_pred)\n",
        "print(\"Soft Voting Score % d\" % score)"
      ]
    },
    {
      "cell_type": "markdown",
      "metadata": {
        "id": "hZaMt1TyWVVH"
      },
      "source": [
        "## 2.2 Averaging <a id=\"2.2\"></a> <br>\n"
      ]
    },
    {
      "cell_type": "code",
      "execution_count": 9,
      "metadata": {
        "id": "n4PTG0E8WVVH",
        "trusted": true
      },
      "outputs": [],
      "source": [
        "from sklearn.datasets import make_blobs\n",
        "from matplotlib import pyplot\n",
        "from pandas import DataFrame"
      ]
    },
    {
      "cell_type": "code",
      "execution_count": 10,
      "metadata": {
        "id": "a4ag57l9WVVH",
        "trusted": true
      },
      "outputs": [],
      "source": [
        "# gerando um dataset de classificacao 2d\n",
        "X, y = make_blobs(n_samples=500, centers=3, n_features=2, cluster_std=2, random_state=2)"
      ]
    },
    {
      "cell_type": "code",
      "execution_count": 11,
      "metadata": {
        "colab": {
          "base_uri": "https://localhost:8080/",
          "height": 449
        },
        "id": "WeAwscWUWVVI",
        "outputId": "73c58b9b-0133-4b10-d09b-58ea6d261653",
        "trusted": true
      },
      "outputs": [
        {
          "data": {
            "image/png": "[encoded data removed]",
            "text/plain": [
              "<Figure size 640x480 with 1 Axes>"
            ]
          },
          "metadata": {},
          "output_type": "display_data"
        }
      ],
      "source": [
        "# scatter plot\n",
        "df = DataFrame(dict(x=X[:,0], y=X[:,1], label=y))\n",
        "colors = {0:'red', 1:'blue', 2:'green'}\n",
        "fig, ax = pyplot.subplots()\n",
        "grouped = df.groupby('label')\n",
        "for key, group in grouped:\n",
        "    group.plot(ax=ax, kind='scatter', x='x', y='y', label=key, color=colors[key])\n",
        "pyplot.show()"
      ]
    },
    {
      "cell_type": "markdown",
      "metadata": {
        "id": "1ivmEiACWVVI"
      },
      "source": [
        "## 2.3 Weighted Averaging <a id=\"2.3\"></a> <br>\n",
        "\n",
        "![](https://www.analyticsvidhya.com/wp-content/uploads/2015/08/Screen-Shot-2015-08-22-at-6.40.37-pm.png)"
      ]
    },
    {
      "cell_type": "code",
      "execution_count": 12,
      "metadata": {
        "id": "YBGyCkmSXzXI"
      },
      "outputs": [],
      "source": [
        "train_dataset = \"https://raw.githubusercontent.com/ahirtonlopes/Mastering-Machine-Learning/main/Projetos/train.csv\"\n",
        "test_dataset = \"https://raw.githubusercontent.com/ahirtonlopes/Mastering-Machine-Learning/main/Projetos/test.csv\""
      ]
    },
    {
      "cell_type": "code",
      "execution_count": 13,
      "metadata": {
        "id": "gRerakzSWVVI",
        "trusted": true
      },
      "outputs": [],
      "source": [
        "train = pd.read_csv(train_dataset,na_values = '#NAME?')\n",
        "test = pd.read_csv(test_dataset,na_values = '#NAME?')"
      ]
    },
    {
      "cell_type": "markdown",
      "metadata": {
        "id": "gtw1J4FiWVVI"
      },
      "source": [
        "Baseado na distribuição dos dados, vamos remover alguns outliers"
      ]
    },
    {
      "cell_type": "code",
      "execution_count": 14,
      "metadata": {
        "id": "4rCKekotWVVI",
        "trusted": true
      },
      "outputs": [],
      "source": [
        "train.drop(train[(train['GrLivArea'] >4000) & (train['SalePrice']<300000)].index,inplace = True)"
      ]
    },
    {
      "cell_type": "code",
      "execution_count": 15,
      "metadata": {
        "colab": {
          "base_uri": "https://localhost:8080/"
        },
        "id": "oA8kmnIzWVVJ",
        "outputId": "07de4717-c0b3-4e25-a515-30bb99745b88",
        "trusted": true
      },
      "outputs": [
        {
          "data": {
            "text/plain": [
              "(2917, 80)"
            ]
          },
          "execution_count": 15,
          "metadata": {},
          "output_type": "execute_result"
        }
      ],
      "source": [
        "full = pd.concat([train,test],ignore_index=True)\n",
        "full.drop('Id',axis = 1,inplace = True)\n",
        "full.shape"
      ]
    },
    {
      "cell_type": "markdown",
      "metadata": {
        "id": "cxxYFZkIWVVJ"
      },
      "source": [
        "Tratamento de valores faltantes"
      ]
    },
    {
      "cell_type": "code",
      "execution_count": 16,
      "metadata": {
        "colab": {
          "base_uri": "https://localhost:8080/"
        },
        "id": "yDZ8bXh1WVVJ",
        "outputId": "a6b21f9d-788f-4e59-a869-d0320f1cd1d7",
        "trusted": true
      },
      "outputs": [
        {
          "data": {
            "text/plain": [
              "PoolQC          2908\n",
              "MiscFeature     2812\n",
              "Alley           2719\n",
              "Fence           2346\n",
              "SalePrice       1459\n",
              "FireplaceQu     1420\n",
              "LotFrontage      486\n",
              "GarageCond       159\n",
              "GarageYrBlt      159\n",
              "GarageFinish     159\n",
              "GarageQual       159\n",
              "GarageType       157\n",
              "BsmtExposure      82\n",
              "BsmtCond          82\n",
              "BsmtQual          81\n",
              "BsmtFinType2      80\n",
              "BsmtFinType1      79\n",
              "MasVnrType        24\n",
              "MasVnrArea        23\n",
              "MSZoning           4\n",
              "Functional         2\n",
              "BsmtHalfBath       2\n",
              "BsmtFullBath       2\n",
              "Utilities          2\n",
              "KitchenQual        1\n",
              "TotalBsmtSF        1\n",
              "BsmtUnfSF          1\n",
              "GarageCars         1\n",
              "GarageArea         1\n",
              "BsmtFinSF2         1\n",
              "BsmtFinSF1         1\n",
              "Exterior2nd        1\n",
              "Exterior1st        1\n",
              "SaleType           1\n",
              "Electrical         1\n",
              "dtype: int64"
            ]
          },
          "execution_count": 16,
          "metadata": {},
          "output_type": "execute_result"
        }
      ],
      "source": [
        "missing_values = full.isnull().sum()\n",
        "missing_values[missing_values>0].sort_values(ascending = False)"
      ]
    },
    {
      "cell_type": "code",
      "execution_count": 17,
      "metadata": {
        "colab": {
          "base_uri": "https://localhost:8080/",
          "height": 896
        },
        "id": "22F87KlPWVVJ",
        "outputId": "7e601617-dc12-4115-8d70-2880ebf04c28",
        "trusted": true
      },
      "outputs": [
        {
          "data": {
            "text/html": [
              "<div>\n",
              "<style scoped>\n",
              "    .dataframe tbody tr th:only-of-type {\n",
              "        vertical-align: middle;\n",
              "    }\n",
              "\n",
              "    .dataframe tbody tr th {\n",
              "        vertical-align: top;\n",
              "    }\n",
              "\n",
              "    .dataframe thead tr th {\n",
              "        text-align: left;\n",
              "    }\n",
              "\n",
              "    .dataframe thead tr:last-of-type th {\n",
              "        text-align: right;\n",
              "    }\n",
              "</style>\n",
              "<table border=\"1\" class=\"dataframe\">\n",
              "  <thead>\n",
              "    <tr>\n",
              "      <th></th>\n",
              "      <th colspan=\"3\" halign=\"left\">LotFrontage</th>\n",
              "    </tr>\n",
              "    <tr>\n",
              "      <th></th>\n",
              "      <th>mean</th>\n",
              "      <th>median</th>\n",
              "      <th>count</th>\n",
              "    </tr>\n",
              "    <tr>\n",
              "      <th>Neighborhood</th>\n",
              "      <th></th>\n",
              "      <th></th>\n",
              "      <th></th>\n",
              "    </tr>\n",
              "  </thead>\n",
              "  <tbody>\n",
              "    <tr>\n",
              "      <th>Blmngtn</th>\n",
              "      <td>46.900000</td>\n",
              "      <td>43.0</td>\n",
              "      <td>20</td>\n",
              "    </tr>\n",
              "    <tr>\n",
              "      <th>Blueste</th>\n",
              "      <td>27.300000</td>\n",
              "      <td>24.0</td>\n",
              "      <td>10</td>\n",
              "    </tr>\n",
              "    <tr>\n",
              "      <th>BrDale</th>\n",
              "      <td>21.500000</td>\n",
              "      <td>21.0</td>\n",
              "      <td>30</td>\n",
              "    </tr>\n",
              "    <tr>\n",
              "      <th>BrkSide</th>\n",
              "      <td>55.789474</td>\n",
              "      <td>51.0</td>\n",
              "      <td>95</td>\n",
              "    </tr>\n",
              "    <tr>\n",
              "      <th>ClearCr</th>\n",
              "      <td>88.150000</td>\n",
              "      <td>80.5</td>\n",
              "      <td>20</td>\n",
              "    </tr>\n",
              "    <tr>\n",
              "      <th>CollgCr</th>\n",
              "      <td>71.336364</td>\n",
              "      <td>70.0</td>\n",
              "      <td>220</td>\n",
              "    </tr>\n",
              "    <tr>\n",
              "      <th>Crawfor</th>\n",
              "      <td>69.951807</td>\n",
              "      <td>70.0</td>\n",
              "      <td>83</td>\n",
              "    </tr>\n",
              "    <tr>\n",
              "      <th>Edwards</th>\n",
              "      <td>65.153409</td>\n",
              "      <td>64.5</td>\n",
              "      <td>176</td>\n",
              "    </tr>\n",
              "    <tr>\n",
              "      <th>Gilbert</th>\n",
              "      <td>74.207207</td>\n",
              "      <td>64.0</td>\n",
              "      <td>111</td>\n",
              "    </tr>\n",
              "    <tr>\n",
              "      <th>IDOTRR</th>\n",
              "      <td>62.241379</td>\n",
              "      <td>60.0</td>\n",
              "      <td>87</td>\n",
              "    </tr>\n",
              "    <tr>\n",
              "      <th>MeadowV</th>\n",
              "      <td>25.606061</td>\n",
              "      <td>21.0</td>\n",
              "      <td>33</td>\n",
              "    </tr>\n",
              "    <tr>\n",
              "      <th>Mitchel</th>\n",
              "      <td>75.144444</td>\n",
              "      <td>74.0</td>\n",
              "      <td>90</td>\n",
              "    </tr>\n",
              "    <tr>\n",
              "      <th>NAmes</th>\n",
              "      <td>75.210667</td>\n",
              "      <td>73.0</td>\n",
              "      <td>375</td>\n",
              "    </tr>\n",
              "    <tr>\n",
              "      <th>NPkVill</th>\n",
              "      <td>28.142857</td>\n",
              "      <td>24.0</td>\n",
              "      <td>21</td>\n",
              "    </tr>\n",
              "    <tr>\n",
              "      <th>NWAmes</th>\n",
              "      <td>81.517647</td>\n",
              "      <td>80.0</td>\n",
              "      <td>85</td>\n",
              "    </tr>\n",
              "    <tr>\n",
              "      <th>NoRidge</th>\n",
              "      <td>91.629630</td>\n",
              "      <td>89.0</td>\n",
              "      <td>54</td>\n",
              "    </tr>\n",
              "    <tr>\n",
              "      <th>NridgHt</th>\n",
              "      <td>84.184049</td>\n",
              "      <td>92.0</td>\n",
              "      <td>163</td>\n",
              "    </tr>\n",
              "    <tr>\n",
              "      <th>OldTown</th>\n",
              "      <td>61.777293</td>\n",
              "      <td>60.0</td>\n",
              "      <td>229</td>\n",
              "    </tr>\n",
              "    <tr>\n",
              "      <th>SWISU</th>\n",
              "      <td>59.068182</td>\n",
              "      <td>60.0</td>\n",
              "      <td>44</td>\n",
              "    </tr>\n",
              "    <tr>\n",
              "      <th>Sawyer</th>\n",
              "      <td>74.551020</td>\n",
              "      <td>72.0</td>\n",
              "      <td>98</td>\n",
              "    </tr>\n",
              "    <tr>\n",
              "      <th>SawyerW</th>\n",
              "      <td>70.669811</td>\n",
              "      <td>67.0</td>\n",
              "      <td>106</td>\n",
              "    </tr>\n",
              "    <tr>\n",
              "      <th>Somerst</th>\n",
              "      <td>64.549383</td>\n",
              "      <td>72.5</td>\n",
              "      <td>162</td>\n",
              "    </tr>\n",
              "    <tr>\n",
              "      <th>StoneBr</th>\n",
              "      <td>62.173913</td>\n",
              "      <td>60.0</td>\n",
              "      <td>46</td>\n",
              "    </tr>\n",
              "    <tr>\n",
              "      <th>Timber</th>\n",
              "      <td>81.157895</td>\n",
              "      <td>82.0</td>\n",
              "      <td>57</td>\n",
              "    </tr>\n",
              "    <tr>\n",
              "      <th>Veenker</th>\n",
              "      <td>72.000000</td>\n",
              "      <td>80.0</td>\n",
              "      <td>16</td>\n",
              "    </tr>\n",
              "  </tbody>\n",
              "</table>\n",
              "</div>"
            ],
            "text/plain": [
              "             LotFrontage             \n",
              "                    mean median count\n",
              "Neighborhood                         \n",
              "Blmngtn        46.900000   43.0    20\n",
              "Blueste        27.300000   24.0    10\n",
              "BrDale         21.500000   21.0    30\n",
              "BrkSide        55.789474   51.0    95\n",
              "ClearCr        88.150000   80.5    20\n",
              "CollgCr        71.336364   70.0   220\n",
              "Crawfor        69.951807   70.0    83\n",
              "Edwards        65.153409   64.5   176\n",
              "Gilbert        74.207207   64.0   111\n",
              "IDOTRR         62.241379   60.0    87\n",
              "MeadowV        25.606061   21.0    33\n",
              "Mitchel        75.144444   74.0    90\n",
              "NAmes          75.210667   73.0   375\n",
              "NPkVill        28.142857   24.0    21\n",
              "NWAmes         81.517647   80.0    85\n",
              "NoRidge        91.629630   89.0    54\n",
              "NridgHt        84.184049   92.0   163\n",
              "OldTown        61.777293   60.0   229\n",
              "SWISU          59.068182   60.0    44\n",
              "Sawyer         74.551020   72.0    98\n",
              "SawyerW        70.669811   67.0   106\n",
              "Somerst        64.549383   72.5   162\n",
              "StoneBr        62.173913   60.0    46\n",
              "Timber         81.157895   82.0    57\n",
              "Veenker        72.000000   80.0    16"
            ]
          },
          "execution_count": 17,
          "metadata": {},
          "output_type": "execute_result"
        }
      ],
      "source": [
        "full.groupby(['Neighborhood'])[['LotFrontage']].agg(['mean','median','count'])"
      ]
    },
    {
      "cell_type": "code",
      "execution_count": 18,
      "metadata": {
        "colab": {
          "base_uri": "https://localhost:8080/",
          "height": 425
        },
        "id": "Zyzsx0jQWVVJ",
        "outputId": "89da4006-ed37-42ff-8d33-3ba389647e86",
        "trusted": true
      },
      "outputs": [
        {
          "data": {
            "text/html": [
              "<div>\n",
              "<style scoped>\n",
              "    .dataframe tbody tr th:only-of-type {\n",
              "        vertical-align: middle;\n",
              "    }\n",
              "\n",
              "    .dataframe tbody tr th {\n",
              "        vertical-align: top;\n",
              "    }\n",
              "\n",
              "    .dataframe thead tr th {\n",
              "        text-align: left;\n",
              "    }\n",
              "\n",
              "    .dataframe thead tr:last-of-type th {\n",
              "        text-align: right;\n",
              "    }\n",
              "</style>\n",
              "<table border=\"1\" class=\"dataframe\">\n",
              "  <thead>\n",
              "    <tr>\n",
              "      <th></th>\n",
              "      <th colspan=\"3\" halign=\"left\">LotFrontage</th>\n",
              "    </tr>\n",
              "    <tr>\n",
              "      <th></th>\n",
              "      <th>mean</th>\n",
              "      <th>median</th>\n",
              "      <th>count</th>\n",
              "    </tr>\n",
              "    <tr>\n",
              "      <th>LotAreaCut</th>\n",
              "      <th></th>\n",
              "      <th></th>\n",
              "      <th></th>\n",
              "    </tr>\n",
              "  </thead>\n",
              "  <tbody>\n",
              "    <tr>\n",
              "      <th>(1299.999, 4921.8]</th>\n",
              "      <td>35.741036</td>\n",
              "      <td>34.0</td>\n",
              "      <td>251</td>\n",
              "    </tr>\n",
              "    <tr>\n",
              "      <th>(4921.8, 7007.2]</th>\n",
              "      <td>55.460674</td>\n",
              "      <td>52.0</td>\n",
              "      <td>267</td>\n",
              "    </tr>\n",
              "    <tr>\n",
              "      <th>(7007.2, 7949.0]</th>\n",
              "      <td>62.959839</td>\n",
              "      <td>62.0</td>\n",
              "      <td>249</td>\n",
              "    </tr>\n",
              "    <tr>\n",
              "      <th>(7949.0, 8740.4]</th>\n",
              "      <td>67.113725</td>\n",
              "      <td>65.0</td>\n",
              "      <td>255</td>\n",
              "    </tr>\n",
              "    <tr>\n",
              "      <th>(8740.4, 9452.0]</th>\n",
              "      <td>69.959184</td>\n",
              "      <td>70.0</td>\n",
              "      <td>245</td>\n",
              "    </tr>\n",
              "    <tr>\n",
              "      <th>(9452.0, 10148.8]</th>\n",
              "      <td>73.988235</td>\n",
              "      <td>75.0</td>\n",
              "      <td>255</td>\n",
              "    </tr>\n",
              "    <tr>\n",
              "      <th>(10148.8, 11000.0]</th>\n",
              "      <td>73.636364</td>\n",
              "      <td>75.0</td>\n",
              "      <td>253</td>\n",
              "    </tr>\n",
              "    <tr>\n",
              "      <th>(11000.0, 12196.8]</th>\n",
              "      <td>83.371681</td>\n",
              "      <td>82.0</td>\n",
              "      <td>226</td>\n",
              "    </tr>\n",
              "    <tr>\n",
              "      <th>(12196.8, 14285.8]</th>\n",
              "      <td>84.973684</td>\n",
              "      <td>85.0</td>\n",
              "      <td>228</td>\n",
              "    </tr>\n",
              "    <tr>\n",
              "      <th>(14285.8, 215245.0]</th>\n",
              "      <td>92.846535</td>\n",
              "      <td>90.0</td>\n",
              "      <td>202</td>\n",
              "    </tr>\n",
              "  </tbody>\n",
              "</table>\n",
              "</div>"
            ],
            "text/plain": [
              "                    LotFrontage             \n",
              "                           mean median count\n",
              "LotAreaCut                                  \n",
              "(1299.999, 4921.8]    35.741036   34.0   251\n",
              "(4921.8, 7007.2]      55.460674   52.0   267\n",
              "(7007.2, 7949.0]      62.959839   62.0   249\n",
              "(7949.0, 8740.4]      67.113725   65.0   255\n",
              "(8740.4, 9452.0]      69.959184   70.0   245\n",
              "(9452.0, 10148.8]     73.988235   75.0   255\n",
              "(10148.8, 11000.0]    73.636364   75.0   253\n",
              "(11000.0, 12196.8]    83.371681   82.0   226\n",
              "(12196.8, 14285.8]    84.973684   85.0   228\n",
              "(14285.8, 215245.0]   92.846535   90.0   202"
            ]
          },
          "execution_count": 18,
          "metadata": {},
          "output_type": "execute_result"
        }
      ],
      "source": [
        "full['LotAreaCut'] = pd.qcut(full.LotArea,10)\n",
        "\n",
        "full.groupby([full['LotAreaCut']])[['LotFrontage']].agg(['mean','median','count'])"
      ]
    },
    {
      "cell_type": "code",
      "execution_count": 19,
      "metadata": {
        "id": "t0twDSJUWVVK",
        "trusted": true
      },
      "outputs": [],
      "source": [
        "full['LotFrontage']= full.groupby(['LotAreaCut','Neighborhood'])['LotFrontage'].transform(lambda x : x.fillna(x.median()))\n",
        "full['LotFrontage']= full.groupby(['LotAreaCut'])['LotFrontage'].transform(lambda x : x.fillna(x.median()))"
      ]
    },
    {
      "cell_type": "code",
      "execution_count": 20,
      "metadata": {
        "colab": {
          "base_uri": "https://localhost:8080/"
        },
        "id": "9L-1aVpEWVVK",
        "outputId": "7a940c04-a16c-45ef-f25d-1d28dd8fb004",
        "trusted": true
      },
      "outputs": [
        {
          "data": {
            "text/plain": [
              "PoolQC          2908\n",
              "MiscFeature     2812\n",
              "Alley           2719\n",
              "Fence           2346\n",
              "SalePrice       1459\n",
              "FireplaceQu     1420\n",
              "GarageCond       159\n",
              "GarageQual       159\n",
              "GarageFinish     159\n",
              "GarageYrBlt      159\n",
              "GarageType       157\n",
              "BsmtCond          82\n",
              "BsmtExposure      82\n",
              "BsmtQual          81\n",
              "BsmtFinType2      80\n",
              "BsmtFinType1      79\n",
              "MasVnrType        24\n",
              "MasVnrArea        23\n",
              "MSZoning           4\n",
              "Functional         2\n",
              "BsmtHalfBath       2\n",
              "Utilities          2\n",
              "BsmtFullBath       2\n",
              "KitchenQual        1\n",
              "Electrical         1\n",
              "TotalBsmtSF        1\n",
              "BsmtUnfSF          1\n",
              "GarageCars         1\n",
              "GarageArea         1\n",
              "BsmtFinSF2         1\n",
              "BsmtFinSF1         1\n",
              "Exterior2nd        1\n",
              "Exterior1st        1\n",
              "SaleType           1\n",
              "dtype: int64"
            ]
          },
          "execution_count": 20,
          "metadata": {},
          "output_type": "execute_result"
        }
      ],
      "source": [
        "missing_values = full.isnull().sum()\n",
        "\n",
        "missing_values[missing_values>0].sort_values(ascending = False)"
      ]
    },
    {
      "cell_type": "code",
      "execution_count": 21,
      "metadata": {
        "id": "a4-toPE7WVVK",
        "trusted": true
      },
      "outputs": [],
      "source": [
        "columns = [\"MasVnrArea\", \"BsmtUnfSF\", \"TotalBsmtSF\", \"GarageCars\", \"BsmtFinSF2\", \"BsmtFinSF1\", \"GarageArea\"]\n",
        "for col in columns:full[col].fillna(0,inplace= True)"
      ]
    },
    {
      "cell_type": "code",
      "execution_count": 22,
      "metadata": {
        "id": "FeticT81WVVK",
        "trusted": true
      },
      "outputs": [],
      "source": [
        "columns1 = [\"PoolQC\" , \"MiscFeature\", \"Alley\", \"Fence\", \"FireplaceQu\", \"GarageQual\", \"GarageCond\", \"GarageFinish\",\n",
        "\"GarageYrBlt\", \"GarageType\", \"BsmtExposure\", \"BsmtCond\", \"BsmtQual\", \"BsmtFinType2\", \"BsmtFinType1\", \"MasVnrType\"]\n",
        "for col1 in columns1:full[col1].fillna('None',inplace = True)"
      ]
    },
    {
      "cell_type": "code",
      "execution_count": 23,
      "metadata": {
        "id": "cZCzzBinWVVK",
        "trusted": true
      },
      "outputs": [],
      "source": [
        "columns2 = [\"MSZoning\", \"BsmtFullBath\", \"BsmtHalfBath\", \"Utilities\", \"Functional\",\n",
        "            \"Electrical\", \"KitchenQual\", \"SaleType\",\"Exterior1st\", \"Exterior2nd\"]\n",
        "\n",
        "for col2 in columns2:\n",
        "    full[col2].fillna(full[col2].mode()[0],inplace = True)"
      ]
    },
    {
      "cell_type": "code",
      "execution_count": 24,
      "metadata": {
        "colab": {
          "base_uri": "https://localhost:8080/"
        },
        "id": "rBsRqeTVWVVL",
        "outputId": "c06ba8d3-0a04-4b7e-e184-1817622f3662",
        "trusted": true
      },
      "outputs": [
        {
          "data": {
            "text/plain": [
              "SalePrice    1459\n",
              "dtype: int64"
            ]
          },
          "execution_count": 24,
          "metadata": {},
          "output_type": "execute_result"
        }
      ],
      "source": [
        "full.isnull().sum()[full.isnull().sum()>0]"
      ]
    },
    {
      "cell_type": "code",
      "execution_count": 25,
      "metadata": {
        "colab": {
          "base_uri": "https://localhost:8080/"
        },
        "id": "HKCP695sWVVM",
        "outputId": "757200ca-0442-4e25-f667-61be689c1140",
        "trusted": true
      },
      "outputs": [
        {
          "data": {
            "text/plain": [
              "Index(['MSSubClass', 'LotFrontage', 'LotArea', 'OverallQual', 'OverallCond',\n",
              "       'YearBuilt', 'YearRemodAdd', 'MasVnrArea', 'BsmtFinSF1', 'BsmtFinSF2',\n",
              "       'BsmtUnfSF', 'TotalBsmtSF', '1stFlrSF', '2ndFlrSF', 'LowQualFinSF',\n",
              "       'GrLivArea', 'BsmtFullBath', 'BsmtHalfBath', 'FullBath', 'HalfBath',\n",
              "       'BedroomAbvGr', 'KitchenAbvGr', 'TotRmsAbvGrd', 'Fireplaces',\n",
              "       'GarageCars', 'GarageArea', 'WoodDeckSF', 'OpenPorchSF',\n",
              "       'EnclosedPorch', '3SsnPorch', 'ScreenPorch', 'PoolArea', 'MiscVal',\n",
              "       'MoSold', 'YrSold', 'SalePrice'],\n",
              "      dtype='object')"
            ]
          },
          "execution_count": 25,
          "metadata": {},
          "output_type": "execute_result"
        }
      ],
      "source": [
        "numeric_features = full.select_dtypes(include=[np.number])\n",
        "numeric_features.columns"
      ]
    },
    {
      "cell_type": "code",
      "execution_count": 26,
      "metadata": {
        "id": "9RmE8a7GWVVM",
        "trusted": true
      },
      "outputs": [],
      "source": [
        "Numstr = [\"MSSubClass\",\"BsmtFullBath\",\"BsmtHalfBath\",\"HalfBath\",\"BedroomAbvGr\",\"KitchenAbvGr\",\"MoSold\",\n",
        "          \"YrSold\",\"YearBuilt\",\"YearRemodAdd\",\"LowQualFinSF\",\"GarageYrBlt\"]\n",
        "\n",
        "for i in Numstr:\n",
        "    full[i]=full[i].astype(str)"
      ]
    },
    {
      "cell_type": "code",
      "execution_count": 27,
      "metadata": {
        "colab": {
          "base_uri": "https://localhost:8080/",
          "height": 614
        },
        "id": "EBbpFiWPWVVM",
        "outputId": "a13ffb1a-32ca-4dcf-ad82-af1f5a3406bb",
        "trusted": true
      },
      "outputs": [
        {
          "data": {
            "text/html": [
              "<div>\n",
              "<style scoped>\n",
              "    .dataframe tbody tr th:only-of-type {\n",
              "        vertical-align: middle;\n",
              "    }\n",
              "\n",
              "    .dataframe tbody tr th {\n",
              "        vertical-align: top;\n",
              "    }\n",
              "\n",
              "    .dataframe thead tr th {\n",
              "        text-align: left;\n",
              "    }\n",
              "\n",
              "    .dataframe thead tr:last-of-type th {\n",
              "        text-align: right;\n",
              "    }\n",
              "</style>\n",
              "<table border=\"1\" class=\"dataframe\">\n",
              "  <thead>\n",
              "    <tr>\n",
              "      <th></th>\n",
              "      <th colspan=\"3\" halign=\"left\">SalePrice</th>\n",
              "    </tr>\n",
              "    <tr>\n",
              "      <th></th>\n",
              "      <th>mean</th>\n",
              "      <th>median</th>\n",
              "      <th>count</th>\n",
              "    </tr>\n",
              "    <tr>\n",
              "      <th>MSSubClass</th>\n",
              "      <th></th>\n",
              "      <th></th>\n",
              "      <th></th>\n",
              "    </tr>\n",
              "  </thead>\n",
              "  <tbody>\n",
              "    <tr>\n",
              "      <th>120</th>\n",
              "      <td>200779.080460</td>\n",
              "      <td>192000.0</td>\n",
              "      <td>87</td>\n",
              "    </tr>\n",
              "    <tr>\n",
              "      <th>150</th>\n",
              "      <td>NaN</td>\n",
              "      <td>NaN</td>\n",
              "      <td>0</td>\n",
              "    </tr>\n",
              "    <tr>\n",
              "      <th>160</th>\n",
              "      <td>138647.380952</td>\n",
              "      <td>146000.0</td>\n",
              "      <td>63</td>\n",
              "    </tr>\n",
              "    <tr>\n",
              "      <th>180</th>\n",
              "      <td>102300.000000</td>\n",
              "      <td>88500.0</td>\n",
              "      <td>10</td>\n",
              "    </tr>\n",
              "    <tr>\n",
              "      <th>190</th>\n",
              "      <td>129613.333333</td>\n",
              "      <td>128250.0</td>\n",
              "      <td>30</td>\n",
              "    </tr>\n",
              "    <tr>\n",
              "      <th>20</th>\n",
              "      <td>185224.811567</td>\n",
              "      <td>159250.0</td>\n",
              "      <td>536</td>\n",
              "    </tr>\n",
              "    <tr>\n",
              "      <th>30</th>\n",
              "      <td>95829.724638</td>\n",
              "      <td>99900.0</td>\n",
              "      <td>69</td>\n",
              "    </tr>\n",
              "    <tr>\n",
              "      <th>40</th>\n",
              "      <td>156125.000000</td>\n",
              "      <td>142500.0</td>\n",
              "      <td>4</td>\n",
              "    </tr>\n",
              "    <tr>\n",
              "      <th>45</th>\n",
              "      <td>108591.666667</td>\n",
              "      <td>107500.0</td>\n",
              "      <td>12</td>\n",
              "    </tr>\n",
              "    <tr>\n",
              "      <th>50</th>\n",
              "      <td>143302.972222</td>\n",
              "      <td>132000.0</td>\n",
              "      <td>144</td>\n",
              "    </tr>\n",
              "    <tr>\n",
              "      <th>60</th>\n",
              "      <td>240403.542088</td>\n",
              "      <td>216000.0</td>\n",
              "      <td>297</td>\n",
              "    </tr>\n",
              "    <tr>\n",
              "      <th>70</th>\n",
              "      <td>166772.416667</td>\n",
              "      <td>156000.0</td>\n",
              "      <td>60</td>\n",
              "    </tr>\n",
              "    <tr>\n",
              "      <th>75</th>\n",
              "      <td>192437.500000</td>\n",
              "      <td>163500.0</td>\n",
              "      <td>16</td>\n",
              "    </tr>\n",
              "    <tr>\n",
              "      <th>80</th>\n",
              "      <td>169736.551724</td>\n",
              "      <td>166500.0</td>\n",
              "      <td>58</td>\n",
              "    </tr>\n",
              "    <tr>\n",
              "      <th>85</th>\n",
              "      <td>147810.000000</td>\n",
              "      <td>140750.0</td>\n",
              "      <td>20</td>\n",
              "    </tr>\n",
              "    <tr>\n",
              "      <th>90</th>\n",
              "      <td>133541.076923</td>\n",
              "      <td>135980.0</td>\n",
              "      <td>52</td>\n",
              "    </tr>\n",
              "  </tbody>\n",
              "</table>\n",
              "</div>"
            ],
            "text/plain": [
              "                SalePrice                \n",
              "                     mean    median count\n",
              "MSSubClass                               \n",
              "120         200779.080460  192000.0    87\n",
              "150                   NaN       NaN     0\n",
              "160         138647.380952  146000.0    63\n",
              "180         102300.000000   88500.0    10\n",
              "190         129613.333333  128250.0    30\n",
              "20          185224.811567  159250.0   536\n",
              "30           95829.724638   99900.0    69\n",
              "40          156125.000000  142500.0     4\n",
              "45          108591.666667  107500.0    12\n",
              "50          143302.972222  132000.0   144\n",
              "60          240403.542088  216000.0   297\n",
              "70          166772.416667  156000.0    60\n",
              "75          192437.500000  163500.0    16\n",
              "80          169736.551724  166500.0    58\n",
              "85          147810.000000  140750.0    20\n",
              "90          133541.076923  135980.0    52"
            ]
          },
          "execution_count": 27,
          "metadata": {},
          "output_type": "execute_result"
        }
      ],
      "source": [
        "full.groupby(['MSSubClass'])[['SalePrice']].agg(['mean','median','count'])"
      ]
    },
    {
      "cell_type": "code",
      "execution_count": 28,
      "metadata": {
        "id": "l65MUX-tWVVM",
        "trusted": true
      },
      "outputs": [],
      "source": [
        "def map_values():\n",
        "    full[\"oMSSubClass\"] = full.MSSubClass.map({'180':1,\n",
        "                                        '30':2, '45':2,\n",
        "                                        '190':3, '50':3, '90':3,\n",
        "                                        '85':4, '40':4, '160':4,\n",
        "                                        '70':5, '20':5, '75':5, '80':5, '150':5,\n",
        "                                        '120': 6, '60':6})\n",
        "\n",
        "    full[\"oMSZoning\"] = full.MSZoning.map({'C (all)':1, 'RH':2, 'RM':2, 'RL':3, 'FV':4})\n",
        "    full[\"oNeighborhood\"] = full.Neighborhood.map({'MeadowV':1,\n",
        "                                               'IDOTRR':2, 'BrDale':2,\n",
        "                                               'OldTown':3, 'Edwards':3, 'BrkSide':3,\n",
        "                                               'Sawyer':4, 'Blueste':4, 'SWISU':4, 'NAmes':4,\n",
        "                                               'NPkVill':5, 'Mitchel':5,\n",
        "                                               'SawyerW':6, 'Gilbert':6, 'NWAmes':6,\n",
        "                                               'Blmngtn':7, 'CollgCr':7, 'ClearCr':7, 'Crawfor':7,\n",
        "                                               'Veenker':8, 'Somerst':8, 'Timber':8,\n",
        "                                               'StoneBr':9,\n",
        "                                               'NoRidge':10, 'NridgHt':10})\n",
        "\n",
        "    full[\"oCondition1\"] = full.Condition1.map({'Artery':1,\n",
        "                                           'Feedr':2, 'RRAe':2,\n",
        "                                           'Norm':3, 'RRAn':3,\n",
        "                                           'PosN':4, 'RRNe':4,\n",
        "                                           'PosA':5 ,'RRNn':5})\n",
        "\n",
        "    full[\"oBldgType\"] = full.BldgType.map({'2fmCon':1, 'Duplex':1, 'Twnhs':1, '1Fam':2, 'TwnhsE':2})\n",
        "\n",
        "    full[\"oHouseStyle\"] = full.HouseStyle.map({'1.5Unf':1,\n",
        "                                           '1.5Fin':2, '2.5Unf':2, 'SFoyer':2,\n",
        "                                           '1Story':3, 'SLvl':3,\n",
        "                                           '2Story':4, '2.5Fin':4})\n",
        "\n",
        "    full[\"oExterior1st\"] = full.Exterior1st.map({'BrkComm':1,\n",
        "                                             'AsphShn':2, 'CBlock':2, 'AsbShng':2,\n",
        "                                             'WdShing':3, 'Wd Sdng':3, 'MetalSd':3, 'Stucco':3, 'HdBoard':3,\n",
        "                                             'BrkFace':4, 'Plywood':4,\n",
        "                                             'VinylSd':5,\n",
        "                                             'CemntBd':6,\n",
        "                                             'Stone':7, 'ImStucc':7})\n",
        "\n",
        "    full[\"oMasVnrType\"] = full.MasVnrType.map({'BrkCmn':1, 'None':1, 'BrkFace':2, 'Stone':3})\n",
        "\n",
        "    full[\"oExterQual\"] = full.ExterQual.map({'Fa':1, 'TA':2, 'Gd':3, 'Ex':4})\n",
        "\n",
        "    full[\"oFoundation\"] = full.Foundation.map({'Slab':1,\n",
        "                                           'BrkTil':2, 'CBlock':2, 'Stone':2,\n",
        "                                           'Wood':3, 'PConc':4})\n",
        "\n",
        "    full[\"oBsmtQual\"] = full.BsmtQual.map({'Fa':2, 'None':1, 'TA':3, 'Gd':4, 'Ex':5})\n",
        "\n",
        "    full[\"oBsmtExposure\"] = full.BsmtExposure.map({'None':1, 'No':2, 'Av':3, 'Mn':3, 'Gd':4})\n",
        "\n",
        "    full[\"oHeating\"] = full.Heating.map({'Floor':1, 'Grav':1, 'Wall':2, 'OthW':3, 'GasW':4, 'GasA':5})\n",
        "\n",
        "    full[\"oHeatingQC\"] = full.HeatingQC.map({'Po':1, 'Fa':2, 'TA':3, 'Gd':4, 'Ex':5})\n",
        "\n",
        "    full[\"oKitchenQual\"] = full.KitchenQual.map({'Fa':1, 'TA':2, 'Gd':3, 'Ex':4})\n",
        "\n",
        "    full[\"oFunctional\"] = full.Functional.map({'Maj2':1, 'Maj1':2, 'Min1':2, 'Min2':2, 'Mod':2, 'Sev':2, 'Typ':3})\n",
        "\n",
        "    full[\"oFireplaceQu\"] = full.FireplaceQu.map({'None':1, 'Po':1, 'Fa':2, 'TA':3, 'Gd':4, 'Ex':5})\n",
        "\n",
        "    full[\"oGarageType\"] = full.GarageType.map({'CarPort':1, 'None':1,\n",
        "                                           'Detchd':2,\n",
        "                                           '2Types':3, 'Basment':3,\n",
        "                                           'Attchd':4, 'BuiltIn':5})\n",
        "\n",
        "    full[\"oGarageFinish\"] = full.GarageFinish.map({'None':1, 'Unf':2, 'RFn':3, 'Fin':4})\n",
        "\n",
        "    full[\"oPavedDrive\"] = full.PavedDrive.map({'N':1, 'P':2, 'Y':3})\n",
        "\n",
        "    full[\"oSaleType\"] = full.SaleType.map({'COD':1, 'ConLD':1, 'ConLI':1, 'ConLw':1, 'Oth':1, 'WD':1,\n",
        "                                       'CWD':2, 'Con':3, 'New':3})\n",
        "\n",
        "    full[\"oSaleCondition\"] = full.SaleCondition.map({'AdjLand':1, 'Abnorml':2, 'Alloca':2, 'Family':2, 'Normal':3, 'Partial':4})\n",
        "\n",
        "\n",
        "\n",
        "\n",
        "    return \"Done!\"\n"
      ]
    },
    {
      "cell_type": "code",
      "execution_count": 29,
      "metadata": {
        "colab": {
          "base_uri": "https://localhost:8080/",
          "height": 35
        },
        "id": "_-vgjhp6WVVM",
        "outputId": "2cfba098-2f56-4d04-96b5-a1dcd8491c88",
        "trusted": true
      },
      "outputs": [
        {
          "data": {
            "text/plain": [
              "'Done!'"
            ]
          },
          "execution_count": 29,
          "metadata": {},
          "output_type": "execute_result"
        }
      ],
      "source": [
        "map_values()"
      ]
    },
    {
      "cell_type": "code",
      "execution_count": 30,
      "metadata": {
        "id": "_gXrEZqlWVVN",
        "trusted": true
      },
      "outputs": [],
      "source": [
        "# dropando duas colunas desnecessárias\n",
        "full.drop(\"LotAreaCut\",axis=1,inplace=True)\n",
        "\n",
        "full.drop(['SalePrice'],axis=1,inplace=True)"
      ]
    },
    {
      "cell_type": "code",
      "execution_count": 31,
      "metadata": {
        "colab": {
          "base_uri": "https://localhost:8080/",
          "height": 206
        },
        "id": "GELnVrqyWVVN",
        "outputId": "45c83555-39e4-4661-c640-c979541b3c2b",
        "trusted": true
      },
      "outputs": [
        {
          "data": {
            "text/html": [
              "<div>\n",
              "<style scoped>\n",
              "    .dataframe tbody tr th:only-of-type {\n",
              "        vertical-align: middle;\n",
              "    }\n",
              "\n",
              "    .dataframe tbody tr th {\n",
              "        vertical-align: top;\n",
              "    }\n",
              "\n",
              "    .dataframe thead th {\n",
              "        text-align: right;\n",
              "    }\n",
              "</style>\n",
              "<table border=\"1\" class=\"dataframe\">\n",
              "  <thead>\n",
              "    <tr style=\"text-align: right;\">\n",
              "      <th></th>\n",
              "      <th>YearBuilt</th>\n",
              "      <th>YearRemodAdd</th>\n",
              "      <th>GarageYrBlt</th>\n",
              "    </tr>\n",
              "  </thead>\n",
              "  <tbody>\n",
              "    <tr>\n",
              "      <th>0</th>\n",
              "      <td>2003</td>\n",
              "      <td>2003</td>\n",
              "      <td>2003.0</td>\n",
              "    </tr>\n",
              "    <tr>\n",
              "      <th>1</th>\n",
              "      <td>1976</td>\n",
              "      <td>1976</td>\n",
              "      <td>1976.0</td>\n",
              "    </tr>\n",
              "    <tr>\n",
              "      <th>2</th>\n",
              "      <td>2001</td>\n",
              "      <td>2002</td>\n",
              "      <td>2001.0</td>\n",
              "    </tr>\n",
              "    <tr>\n",
              "      <th>3</th>\n",
              "      <td>1915</td>\n",
              "      <td>1970</td>\n",
              "      <td>1998.0</td>\n",
              "    </tr>\n",
              "    <tr>\n",
              "      <th>4</th>\n",
              "      <td>2000</td>\n",
              "      <td>2000</td>\n",
              "      <td>2000.0</td>\n",
              "    </tr>\n",
              "  </tbody>\n",
              "</table>\n",
              "</div>"
            ],
            "text/plain": [
              "  YearBuilt YearRemodAdd GarageYrBlt\n",
              "0      2003         2003      2003.0\n",
              "1      1976         1976      1976.0\n",
              "2      2001         2002      2001.0\n",
              "3      1915         1970      1998.0\n",
              "4      2000         2000      2000.0"
            ]
          },
          "execution_count": 31,
          "metadata": {},
          "output_type": "execute_result"
        }
      ],
      "source": [
        "full[['YearBuilt','YearRemodAdd','GarageYrBlt']].head()"
      ]
    },
    {
      "cell_type": "code",
      "execution_count": 32,
      "metadata": {
        "id": "p12u2-CqWVVN",
        "trusted": true
      },
      "outputs": [],
      "source": [
        "class labenc(BaseEstimator,TransformerMixin):\n",
        "    def __init__(self):\n",
        "        pass\n",
        "    def fit(self,X,y=None):\n",
        "        return self\n",
        "    def transform(self,X):\n",
        "        label = LabelEncoder()\n",
        "        X['YearBuilt']=label.fit_transform(X['YearBuilt'])\n",
        "        X['YearRemodAdd']=label.fit_transform(X['YearRemodAdd'])\n",
        "        X['GarageYrBlt']=label.fit_transform(X['GarageYrBlt'])\n",
        "        return X\n"
      ]
    },
    {
      "cell_type": "code",
      "execution_count": 33,
      "metadata": {
        "id": "pMJALxjZWVVN",
        "trusted": true
      },
      "outputs": [],
      "source": [
        "class skewness(BaseEstimator,TransformerMixin):\n",
        "    def __init__(self,skew=0.5):\n",
        "        self.skew = skew\n",
        "    def fit(self,X,y=None):\n",
        "        return self\n",
        "    def transform(self,X):\n",
        "        X_numeric=X.select_dtypes(exclude=[\"object\"])\n",
        "        skewness = X_numeric.apply(lambda x: skew(x))\n",
        "        skewness_features = skewness[abs(skewness) >= self.skew].index\n",
        "        X[skewness_features] = np.log1p(X[skewness_features])\n",
        "        return X"
      ]
    },
    {
      "cell_type": "code",
      "execution_count": 34,
      "metadata": {
        "id": "2FcGPnWJWVVN",
        "trusted": true
      },
      "outputs": [],
      "source": [
        "class dummies(BaseEstimator,TransformerMixin):\n",
        "    def __init__(self):\n",
        "        pass\n",
        "    def fit(self,X,y=None):\n",
        "        return self\n",
        "    def transform(self,X):\n",
        "        X = pd.get_dummies(X)\n",
        "        return X"
      ]
    },
    {
      "cell_type": "code",
      "execution_count": 35,
      "metadata": {
        "id": "nKOHxjuFWVVO",
        "trusted": true
      },
      "outputs": [],
      "source": [
        "pipeline = Pipeline([('labenc',labenc()),('skewness',skewness(skew =1)),('dummies',dummies())])"
      ]
    },
    {
      "cell_type": "code",
      "execution_count": 36,
      "metadata": {
        "id": "vcoD40shWVVO",
        "trusted": true
      },
      "outputs": [],
      "source": [
        "full_copy = full.copy()\n",
        "data_pipeline = pipeline.fit_transform(full_copy)"
      ]
    },
    {
      "cell_type": "code",
      "execution_count": 37,
      "metadata": {
        "id": "sxRrOrB0WVVO",
        "trusted": true
      },
      "outputs": [],
      "source": [
        "robust_scaler = RobustScaler()"
      ]
    },
    {
      "cell_type": "code",
      "execution_count": 38,
      "metadata": {
        "colab": {
          "base_uri": "https://localhost:8080/"
        },
        "id": "aZM08sXfWVVO",
        "outputId": "e3034c63-6baf-4776-863b-bc1d86a59afd",
        "trusted": true
      },
      "outputs": [
        {
          "data": {
            "text/plain": [
              "1458"
            ]
          },
          "execution_count": 38,
          "metadata": {},
          "output_type": "execute_result"
        }
      ],
      "source": [
        "n_train = train.shape[0]\n",
        "n_train"
      ]
    },
    {
      "cell_type": "code",
      "execution_count": 39,
      "metadata": {
        "colab": {
          "base_uri": "https://localhost:8080/"
        },
        "id": "5AFULMSmWVVP",
        "outputId": "b9a3b2b3-1feb-4045-9a5a-65c43621f1bc",
        "trusted": true
      },
      "outputs": [
        {
          "data": {
            "text/plain": [
              "((1458, 405), (1458,), (1459, 405))"
            ]
          },
          "execution_count": 39,
          "metadata": {},
          "output_type": "execute_result"
        }
      ],
      "source": [
        "X= data_pipeline[:n_train]\n",
        "y = train.SalePrice\n",
        "test_X = data_pipeline[n_train:]\n",
        "X.shape,y.shape,test_X.shape"
      ]
    },
    {
      "cell_type": "code",
      "execution_count": 40,
      "metadata": {
        "id": "PHWL6gqGWVVP",
        "trusted": true
      },
      "outputs": [],
      "source": [
        "X_scaled = robust_scaler.fit(X).transform(X)\n",
        "y_log = np.log(train.SalePrice)\n",
        "test_X_scaled = robust_scaler.transform(test_X)"
      ]
    },
    {
      "cell_type": "code",
      "execution_count": 41,
      "metadata": {
        "colab": {
          "base_uri": "https://localhost:8080/"
        },
        "id": "oikoR_UVWVVP",
        "outputId": "6650b23f-0408-4e57-d83e-26597c0e74ca",
        "trusted": true
      },
      "outputs": [
        {
          "data": {
            "text/plain": [
              "((1458, 405), (1458,), (1459, 405))"
            ]
          },
          "execution_count": 41,
          "metadata": {},
          "output_type": "execute_result"
        }
      ],
      "source": [
        "X_scaled.shape,y_log.shape,test_X.shape"
      ]
    },
    {
      "cell_type": "code",
      "execution_count": 42,
      "metadata": {
        "id": "BNbr3dw5WVVP",
        "trusted": true
      },
      "outputs": [],
      "source": [
        "class add_feature(BaseEstimator, TransformerMixin):\n",
        "    def __init__(self,additional=1):\n",
        "        self.additional = additional\n",
        "\n",
        "    def fit(self,X,y=None):\n",
        "        return self\n",
        "\n",
        "    def transform(self,X):\n",
        "        if self.additional==1:\n",
        "            X[\"TotalHouse\"] = X[\"TotalBsmtSF\"] + X[\"1stFlrSF\"] + X[\"2ndFlrSF\"]\n",
        "            X[\"TotalArea\"] = X[\"TotalBsmtSF\"] + X[\"1stFlrSF\"] + X[\"2ndFlrSF\"] + X[\"GarageArea\"]\n",
        "\n",
        "        else:\n",
        "            X[\"TotalHouse\"] = X[\"TotalBsmtSF\"] + X[\"1stFlrSF\"] + X[\"2ndFlrSF\"]\n",
        "            X[\"TotalArea\"] = X[\"TotalBsmtSF\"] + X[\"1stFlrSF\"] + X[\"2ndFlrSF\"] + X[\"GarageArea\"]\n",
        "\n",
        "            X[\"+_TotalHouse_OverallQual\"] = X[\"TotalHouse\"] * X[\"OverallQual\"]\n",
        "            X[\"+_GrLivArea_OverallQual\"] = X[\"GrLivArea\"] * X[\"OverallQual\"]\n",
        "            X[\"+_oMSZoning_TotalHouse\"] = X[\"oMSZoning\"] * X[\"TotalHouse\"]\n",
        "            X[\"+_oMSZoning_OverallQual\"] = X[\"oMSZoning\"] + X[\"OverallQual\"]\n",
        "            X[\"+_oMSZoning_YearBuilt\"] = X[\"oMSZoning\"] + X[\"YearBuilt\"]\n",
        "            X[\"+_oNeighborhood_TotalHouse\"] = X[\"oNeighborhood\"] * X[\"TotalHouse\"]\n",
        "            X[\"+_oNeighborhood_OverallQual\"] = X[\"oNeighborhood\"] + X[\"OverallQual\"]\n",
        "            X[\"+_oNeighborhood_YearBuilt\"] = X[\"oNeighborhood\"] + X[\"YearBuilt\"]\n",
        "            X[\"+_BsmtFinSF1_OverallQual\"] = X[\"BsmtFinSF1\"] * X[\"OverallQual\"]\n",
        "\n",
        "            X[\"-_oFunctional_TotalHouse\"] = X[\"oFunctional\"] * X[\"TotalHouse\"]\n",
        "            X[\"-_oFunctional_OverallQual\"] = X[\"oFunctional\"] + X[\"OverallQual\"]\n",
        "            X[\"-_LotArea_OverallQual\"] = X[\"LotArea\"] * X[\"OverallQual\"]\n",
        "            X[\"-_TotalHouse_LotArea\"] = X[\"TotalHouse\"] + X[\"LotArea\"]\n",
        "            X[\"-_oCondition1_TotalHouse\"] = X[\"oCondition1\"] * X[\"TotalHouse\"]\n",
        "            X[\"-_oCondition1_OverallQual\"] = X[\"oCondition1\"] + X[\"OverallQual\"]\n",
        "\n",
        "\n",
        "            X[\"Bsmt\"] = X[\"BsmtFinSF1\"] + X[\"BsmtFinSF2\"] + X[\"BsmtUnfSF\"]\n",
        "            X[\"Rooms\"] = X[\"FullBath\"]+X[\"TotRmsAbvGrd\"]\n",
        "            X[\"PorchArea\"] = X[\"OpenPorchSF\"]+X[\"EnclosedPorch\"]+X[\"3SsnPorch\"]+X[\"ScreenPorch\"]\n",
        "            X[\"TotalPlace\"] = X[\"TotalBsmtSF\"] + X[\"1stFlrSF\"] + X[\"2ndFlrSF\"] + X[\"GarageArea\"] + X[\"OpenPorchSF\"]+X[\"EnclosedPorch\"]+X[\"3SsnPorch\"]+X[\"ScreenPorch\"]\n",
        "\n",
        "\n",
        "            return X"
      ]
    },
    {
      "cell_type": "code",
      "execution_count": 43,
      "metadata": {
        "colab": {
          "base_uri": "https://localhost:8080/"
        },
        "id": "ENcTz7RAWVVQ",
        "outputId": "d9155ff5-9905-481b-db16-661436ef912f",
        "trusted": true
      },
      "outputs": [
        {
          "data": {
            "text/plain": [
              "(2917, 426)"
            ]
          },
          "execution_count": 43,
          "metadata": {},
          "output_type": "execute_result"
        }
      ],
      "source": [
        "pipeline = Pipeline([('labenc',labenc()),('add_feature', add_feature(additional=2)),\n",
        "                     ('skewness',skewness(skew =1)),('dummies',dummies())])\n",
        "\n",
        "full_pipe = pipeline.fit_transform(full)\n",
        "full_pipe.shape"
      ]
    },
    {
      "cell_type": "code",
      "execution_count": 44,
      "metadata": {
        "id": "kO30c4gCWVVQ",
        "trusted": true
      },
      "outputs": [],
      "source": [
        "n_train=train.shape[0]\n",
        "X = full_pipe[:n_train]\n",
        "test_X = full_pipe[n_train:]\n",
        "y= train.SalePrice\n",
        "\n",
        "X_scaled = robust_scaler.fit(X).transform(X)\n",
        "y_log = np.log(train.SalePrice)\n",
        "test_X_scaled = robust_scaler.transform(test_X)"
      ]
    },
    {
      "cell_type": "code",
      "execution_count": 45,
      "metadata": {
        "colab": {
          "base_uri": "https://localhost:8080/"
        },
        "id": "GGQe-lpvWVVQ",
        "outputId": "1745bc6b-cd36-4cbb-af4c-6ece5f86b516",
        "trusted": true
      },
      "outputs": [
        {
          "name": "stdout",
          "output_type": "stream",
          "text": [
            "(1458, 426)\n"
          ]
        }
      ],
      "source": [
        "print(X_scaled.shape)"
      ]
    },
    {
      "cell_type": "code",
      "execution_count": 46,
      "metadata": {
        "id": "F3zHQvHeWVVQ",
        "trusted": true
      },
      "outputs": [],
      "source": [
        "# Root Mean Square Error\n",
        "def rmse_cv(model,X,y):\n",
        "    rmse = np.sqrt(-cross_val_score(model,X,y,scoring=\"neg_mean_squared_error\",cv=5))\n",
        "    return rmse"
      ]
    },
    {
      "cell_type": "markdown",
      "metadata": {
        "id": "a4jQ54-KWVVQ"
      },
      "source": [
        "### Modelos incluem alguns clássicos vistos em sala como LinearRegression e outros como Ridge, Lasso e Random Forest, que valem a pena conhecer.\n",
        "\n",
        "   - LinearRegression\n",
        "   - Ridge\n",
        "   - Lasso\n",
        "   - Random Forest"
      ]
    },
    {
      "cell_type": "code",
      "execution_count": 47,
      "metadata": {
        "id": "nAi-q4wHWVVQ",
        "trusted": true
      },
      "outputs": [],
      "source": [
        "models = [LinearRegression(),\n",
        "             Ridge(),\n",
        "             Lasso(alpha=0.01,max_iter=10000),\n",
        "             RandomForestRegressor(),\n",
        "             GradientBoostingRegressor(),\n",
        "             SVR(),\n",
        "             LinearSVR(),\n",
        "             ElasticNet(alpha = 0.001,max_iter=10000),\n",
        "             SGDRegressor(max_iter=1000, tol = 1e-3),\n",
        "             BayesianRidge(),\n",
        "             KernelRidge(alpha=0.6,kernel='polynomial',degree = 2,coef0=2.5),\n",
        "             ExtraTreesRegressor(),\n",
        "             XGBRegressor()\n",
        "             ]"
      ]
    },
    {
      "cell_type": "code",
      "execution_count": 48,
      "metadata": {
        "id": "vKSJ8QuAWVVR",
        "trusted": true
      },
      "outputs": [],
      "source": [
        "names = ['LR','Ridge','Lasso','RF','GBR','SVR','LSVR','ENet','SGDR','BayRidge','Kernel','XTreeR','XGBR']"
      ]
    },
    {
      "cell_type": "code",
      "execution_count": 49,
      "metadata": {
        "colab": {
          "base_uri": "https://localhost:8080/"
        },
        "id": "bYCAEq80WVVR",
        "outputId": "f9ff22bb-aaf1-40b3-a3cd-ff3ebf91df8c",
        "trusted": true
      },
      "outputs": [
        {
          "name": "stdout",
          "output_type": "stream",
          "text": [
            "LR: 465425601.199457, 348555151.782147\n",
            "Ridge: 0.117596, 0.009054\n",
            "Lasso: 0.120932, 0.005813\n",
            "RF: 0.131034, 0.007196\n",
            "GBR: 0.121335, 0.004460\n",
            "SVR: 0.131747, 0.010868\n",
            "LSVR: 0.126264, 0.007887\n",
            "ENet: 0.108729, 0.005422\n",
            "SGDR: 0.298565, 0.008996\n",
            "BayRidge: 0.110576, 0.005997\n",
            "Kernel: 0.109421, 0.005545\n",
            "XTreeR: 0.125309, 0.007176\n",
            "XGBR: 0.132300, 0.004476\n"
          ]
        }
      ],
      "source": [
        "for model,name in zip(models,names):\n",
        "    score = rmse_cv(model,X_scaled,y_log)\n",
        "    print(\"{}: {:.6f}, {:4f}\".format(name,score.mean(),score.std()))"
      ]
    },
    {
      "cell_type": "code",
      "execution_count": 50,
      "metadata": {
        "id": "WRqRpKOZWVVR",
        "trusted": true
      },
      "outputs": [],
      "source": [
        "class AverageWeight(BaseEstimator, RegressorMixin):\n",
        "    def __init__(self,model,weight):\n",
        "        self.model = model\n",
        "        self.weight = weight\n",
        "\n",
        "    def fit(self,X,y):\n",
        "        self.models_ = [clone(x) for x in self.model]\n",
        "        for model in self.models_:\n",
        "            model.fit(X,y)\n",
        "        return self\n",
        "\n",
        "    def predict(self,X):\n",
        "        w = list()\n",
        "        pred = np.array([model.predict(X) for model in self.models_])\n",
        "\n",
        "        for data in range(pred.shape[1]):\n",
        "            single = [pred[model,data]*weight for model,weight in zip(range(pred.shape[0]),self.weight)]\n",
        "            w.append(np.sum(single))\n",
        "        return w"
      ]
    },
    {
      "cell_type": "code",
      "execution_count": 51,
      "metadata": {
        "id": "NpJLmVEVWVVR",
        "trusted": true
      },
      "outputs": [],
      "source": [
        "lasso = Lasso(alpha= 0.0005, max_iter= 10000)\n",
        "ridge = Ridge(alpha=45, max_iter= 10000)\n",
        "svr = SVR(C = 0.2, epsilon= 0.025, gamma = 0.0004, kernel = 'rbf')\n",
        "ker = KernelRidge(alpha=0.15 ,kernel='polynomial',degree=3 , coef0=0.9)\n",
        "ela = ElasticNet(alpha=0.0065,l1_ratio=0.075,max_iter=10000)\n",
        "bay = BayesianRidge()"
      ]
    },
    {
      "cell_type": "markdown",
      "metadata": {
        "id": "LfDjqtrLWVVR"
      },
      "source": [
        "#### Finally to calculate the average weights let us look at the following code"
      ]
    },
    {
      "cell_type": "code",
      "execution_count": 52,
      "metadata": {
        "colab": {
          "base_uri": "https://localhost:8080/"
        },
        "id": "4_KwAZmeWVVR",
        "outputId": "fa3dafc3-a05a-4075-e604-bd8918a5cc90",
        "trusted": true
      },
      "outputs": [
        {
          "name": "stdout",
          "output_type": "stream",
          "text": [
            "0.1092439889607519\n"
          ]
        }
      ],
      "source": [
        "w1 = 0.047\n",
        "w2 = 0.2\n",
        "w3 = 0.25\n",
        "w4 = 0.3\n",
        "w5 = 0.003\n",
        "w6 = 0.2\n",
        "\n",
        "weight_avg = AverageWeight(model = [lasso,ridge,svr,ker,ela,bay],weight=[w1,w2,w3,w4,w5,w6])\n",
        "score = rmse_cv(weight_avg,X_scaled,y_log)\n",
        "print(score.mean())"
      ]
    },
    {
      "cell_type": "markdown",
      "metadata": {
        "id": "MRI8LpHIWVVS"
      },
      "source": [
        "If we consider only two models then the score will vary"
      ]
    },
    {
      "cell_type": "code",
      "execution_count": 53,
      "metadata": {
        "colab": {
          "base_uri": "https://localhost:8080/"
        },
        "id": "lY1vsmGCWVVS",
        "outputId": "6869e749-195f-4a74-acf6-bba83656490e",
        "trusted": true
      },
      "outputs": [
        {
          "name": "stdout",
          "output_type": "stream",
          "text": [
            "0.11166439558199111\n"
          ]
        }
      ],
      "source": [
        "weight_avg = AverageWeight(model = [svr,ker],weight=[0.50,0.50])\n",
        "score = rmse_cv(weight_avg,X_scaled,y_log)\n",
        "print(score.mean())"
      ]
    },
    {
      "cell_type": "markdown",
      "metadata": {
        "id": "AHhVIDQwWVVS"
      },
      "source": [
        "## 2.4 Stacking <a id=\"2.4\"></a> <br>\n",
        "\n",
        "![](https://www.researchgate.net/publication/324552457/figure/fig3/AS:616245728645121@1523935839872/An-example-scheme-of-stacking-ensemble-learning.png)\n",
        "\n",
        "\n",
        "![](https://cdn.analyticsvidhya.com/wp-content/uploads/2018/05/image-11-300x217.png)\n",
        "\n",
        "![](https://cdn.analyticsvidhya.com/wp-content/uploads/2018/05/image-10-300x249.png)\n",
        "\n",
        "![](https://cdn.analyticsvidhya.com/wp-content/uploads/2018/05/image-2-300x225.png)\n",
        "\n",
        "![](https://cdn.analyticsvidhya.com/wp-content/uploads/2018/05/image-3-300x224.png)\n",
        "\n",
        "![](https://cdn.analyticsvidhya.com/wp-content/uploads/2018/05/image12-292x300.png)\n"
      ]
    },
    {
      "cell_type": "code",
      "execution_count": 54,
      "metadata": {
        "id": "f2KvYwRZWVVS",
        "trusted": true
      },
      "outputs": [],
      "source": [
        "class stacking(BaseEstimator, RegressorMixin, TransformerMixin):\n",
        "    def __init__(self,mod,meta_model):\n",
        "        self.mod = mod\n",
        "        self.meta_model = meta_model\n",
        "        self.kf = KFold(n_splits=5, random_state=42, shuffle=True)\n",
        "\n",
        "    def fit(self,X,y):\n",
        "        self.saved_model = [list() for i in self.mod]\n",
        "        oof_train = np.zeros((X.shape[0], len(self.mod)))\n",
        "\n",
        "        for i,model in enumerate(self.mod):\n",
        "            for train_index, val_index in self.kf.split(X,y):\n",
        "                renew_model = clone(model)\n",
        "                renew_model.fit(X[train_index], y[train_index])\n",
        "                self.saved_model[i].append(renew_model)\n",
        "                oof_train[val_index,i] = renew_model.predict(X[val_index])\n",
        "\n",
        "        self.meta_model.fit(oof_train,y)\n",
        "        return self\n",
        "\n",
        "    def predict(self,X):\n",
        "        whole_test = np.column_stack([np.column_stack(model.predict(X) for model in single_model).mean(axis=1)\n",
        "                                      for single_model in self.saved_model])\n",
        "        return self.meta_model.predict(whole_test)\n",
        "\n",
        "    def get_oof(self,X,y,test_X):\n",
        "        oof = np.zeros((X.shape[0],len(self.mod)))\n",
        "        test_single = np.zeros((test_X.shape[0],5))\n",
        "        test_mean = np.zeros((test_X.shape[0],len(self.mod)))\n",
        "        for i,model in enumerate(self.mod):\n",
        "            for j, (train_index,val_index) in enumerate(self.kf.split(X,y)):\n",
        "                clone_model = clone(model)\n",
        "                clone_model.fit(X[train_index],y[train_index])\n",
        "                oof[val_index,i] = clone_model.predict(X[val_index])\n",
        "                test_single[:,j] = clone_model.predict(test_X)\n",
        "            test_mean[:,i] = test_single.mean(axis=1)\n",
        "        return oof, test_mean"
      ]
    },
    {
      "cell_type": "code",
      "execution_count": 55,
      "metadata": {
        "id": "vIDpU8q3WVVS",
        "trusted": true
      },
      "outputs": [],
      "source": [
        "from sklearn.impute import SimpleImputer"
      ]
    },
    {
      "cell_type": "code",
      "execution_count": 56,
      "metadata": {
        "id": "Yomf4m3sWVVT",
        "trusted": true
      },
      "outputs": [],
      "source": [
        "X_scaled_imputed = SimpleImputer().fit_transform(X_scaled)\n",
        "y_log_imputed = SimpleImputer().fit_transform(y_log.values.reshape(-1,1)).ravel()"
      ]
    },
    {
      "cell_type": "code",
      "execution_count": 57,
      "metadata": {
        "id": "H9_oV78-WVVT",
        "trusted": true
      },
      "outputs": [],
      "source": [
        "stack_model = stacking(mod=[lasso,ridge,svr,ker,ela,bay],meta_model=ker)"
      ]
    },
    {
      "cell_type": "code",
      "execution_count": 58,
      "metadata": {
        "id": "w1lDEYH2WVVT",
        "trusted": true
      },
      "outputs": [],
      "source": [
        "score = rmse_cv(stack_model,X_scaled_imputed,y_log_imputed)"
      ]
    },
    {
      "cell_type": "code",
      "execution_count": 59,
      "metadata": {
        "colab": {
          "base_uri": "https://localhost:8080/"
        },
        "id": "7rMkM5GgWVVT",
        "outputId": "f2dcc51e-bb1b-4c58-ad27-ad00383b1919",
        "trusted": true
      },
      "outputs": [
        {
          "name": "stdout",
          "output_type": "stream",
          "text": [
            "0.10770367820471705\n"
          ]
        }
      ],
      "source": [
        "print(score.mean())"
      ]
    },
    {
      "cell_type": "markdown",
      "metadata": {
        "id": "MMARq11vWVVT"
      },
      "source": [
        "## 2.5 Blending <a id=\"2.5\"></a> <br>\n",
        "\n",
        "![](https://cdn.analyticsvidhya.com/wp-content/uploads/2018/05/image-7-300x226.png)\n",
        "\n",
        "![](https://cdn.analyticsvidhya.com/wp-content/uploads/2018/05/image-5-300x228.png)"
      ]
    },
    {
      "cell_type": "code",
      "execution_count": 60,
      "metadata": {
        "id": "htxpgE5dWVVU",
        "trusted": true
      },
      "outputs": [],
      "source": [
        "from sklearn.datasets import load_wine\n",
        "X,y = load_wine().data,load_wine().target"
      ]
    },
    {
      "cell_type": "code",
      "execution_count": 61,
      "metadata": {
        "id": "sFhnFdqmWVVU",
        "trusted": true
      },
      "outputs": [],
      "source": [
        "X_train, X_test, y_train, y_test = train_test_split(\n",
        "    X, y, test_size=0.2, random_state=1)\n",
        "X_train, X_val, y_train, y_val = train_test_split(\n",
        "    X_train, y_train, test_size=0.25, random_state=1)"
      ]
    },
    {
      "cell_type": "code",
      "execution_count": 62,
      "metadata": {
        "id": "CiQnFdFCWVVU",
        "trusted": true
      },
      "outputs": [],
      "source": [
        "x_val=pd.DataFrame(X_val)\n",
        "x_test=pd.DataFrame(X_test)"
      ]
    },
    {
      "cell_type": "code",
      "execution_count": 63,
      "metadata": {
        "id": "u4io7tT5WVVU",
        "trusted": true
      },
      "outputs": [],
      "source": [
        "model1 = DecisionTreeClassifier()\n",
        "model1.fit(X_train, y_train)\n",
        "val_pred1=model1.predict(X_val)\n",
        "test_pred1=model1.predict(X_test)\n",
        "val_pred1=pd.DataFrame(val_pred1)\n",
        "test_pred1=pd.DataFrame(test_pred1)\n",
        "\n",
        "model2 = KNeighborsClassifier()\n",
        "model2.fit(X_train,y_train)\n",
        "val_pred2=model2.predict(X_val)\n",
        "test_pred2=model2.predict(X_test)\n",
        "val_pred2=pd.DataFrame(val_pred2)\n",
        "test_pred2=pd.DataFrame(test_pred2)"
      ]
    },
    {
      "cell_type": "code",
      "execution_count": 64,
      "metadata": {
        "colab": {
          "base_uri": "https://localhost:8080/"
        },
        "id": "4mqmsJhJWVVU",
        "outputId": "7056b791-7fec-4662-def2-fe1567569e70",
        "trusted": true
      },
      "outputs": [
        {
          "data": {
            "text/plain": [
              "0.9166666666666666"
            ]
          },
          "execution_count": 64,
          "metadata": {},
          "output_type": "execute_result"
        }
      ],
      "source": [
        "df_val=pd.concat([x_val, val_pred1,val_pred2],axis=1)\n",
        "df_test=pd.concat([x_test, test_pred1,test_pred2],axis=1)\n",
        "\n",
        "model = LogisticRegression()\n",
        "model.fit(df_val,y_val)\n",
        "model.score(df_test,y_test)"
      ]
    },
    {
      "cell_type": "markdown",
      "metadata": {
        "id": "qMI3wKb5WVVV"
      },
      "source": [
        "## 2.6 Bagging <a id=\"2.6\"></a> <br>\n",
        "![](https://miro.medium.com/max/700/1*DFHUbdz6EyOuMYP4pDnFlw.jpeg)\n",
        "\n",
        "![](https://miro.medium.com/max/866/1*JksRZ1E72Rsx2s8lQbNR1w.jpeg)\n",
        "\n",
        "![](https://cdn.analyticsvidhya.com/wp-content/uploads/2018/05/image20-768x289.png)\n",
        "\n",
        "![](https://cdn.analyticsvidhya.com/wp-content/uploads/2018/05/Screenshot-from-2018-05-08-13-11-49-768x580.png)"
      ]
    },
    {
      "cell_type": "code",
      "execution_count": 65,
      "metadata": {
        "id": "Srg9D66OWVVV",
        "trusted": true
      },
      "outputs": [],
      "source": [
        "from sklearn.datasets import load_wine\n",
        "# definindo o dataset\n",
        "X,y = load_wine().data,load_wine().target"
      ]
    },
    {
      "cell_type": "code",
      "execution_count": 66,
      "metadata": {
        "colab": {
          "base_uri": "https://localhost:8080/"
        },
        "id": "ZPOD69YXWVVV",
        "outputId": "ad449dac-0d9c-4a62-b6c0-a57bbfe32443",
        "trusted": true
      },
      "outputs": [
        {
          "name": "stdout",
          "output_type": "stream",
          "text": [
            "Mean of: 0.983, std: (+/-) 0.025 [RandomForestClassifier]\n",
            "Mean of: 0.972, std: (+/-) 0.028 [Bagging RandomForestClassifier]\n",
            "\n",
            "Mean of: 0.989, std: (+/-) 0.022 [ExtraTreesClassifier]\n",
            "Mean of: 0.983, std: (+/-) 0.025 [Bagging ExtraTreesClassifier]\n",
            "\n",
            "Mean of: 0.675, std: (+/-) 0.070 [KNeighborsClassifier]\n",
            "Mean of: 0.764, std: (+/-) 0.068 [Bagging KNeighborsClassifier]\n",
            "\n",
            "Mean of: 0.681, std: (+/-) 0.087 [SVC]\n",
            "Mean of: 0.664, std: (+/-) 0.056 [Bagging SVC]\n",
            "\n",
            "Mean of: 0.983, std: (+/-) 0.025 [RidgeClassifier]\n",
            "Mean of: 0.983, std: (+/-) 0.025 [Bagging RidgeClassifier]\n",
            "\n"
          ]
        }
      ],
      "source": [
        "# Criando classificadores\n",
        "rf = RandomForestClassifier()\n",
        "et = ExtraTreesClassifier()\n",
        "knn = KNeighborsClassifier()\n",
        "svc = SVC()\n",
        "rg = RidgeClassifier()\n",
        "clf_array = [rf, et, knn, svc, rg]\n",
        "for clf in clf_array:\n",
        "    vanilla_scores = cross_val_score(clf, X, y, cv=10, n_jobs=-1)\n",
        "    bagging_clf = BaggingClassifier(clf,max_samples=0.4, max_features=10, random_state=seed)\n",
        "    bagging_scores = cross_val_score(bagging_clf, X, y, cv=10,n_jobs=-1)\n",
        "\n",
        "    print (\"Mean of: {1:.3f}, std: (+/-) {2:.3f} [{0}]\".format(clf.__class__.__name__,vanilla_scores.mean(), vanilla_scores.std()))\n",
        "    print (\"Mean of: {1:.3f}, std: (+/-) {2:.3f} [Bagging {0}]\\n\".format(clf.__class__.__name__,bagging_scores.mean(), bagging_scores.std()))"
      ]
    },
    {
      "cell_type": "code",
      "execution_count": 67,
      "metadata": {
        "colab": {
          "base_uri": "https://localhost:8080/"
        },
        "id": "NNYanwOKWVVW",
        "outputId": "a8f43a12-ca85-4621-d5ae-ce4e5821b491",
        "trusted": true
      },
      "outputs": [
        {
          "name": "stdout",
          "output_type": "stream",
          "text": [
            "Accuracy: 0.98 (+/- 0.03) [Random Forest]\n",
            "Accuracy: 0.99 (+/- 0.02) [Extra Trees]\n",
            "Accuracy: 0.68 (+/- 0.07) [KNeighbors]\n",
            "Accuracy: 0.68 (+/- 0.09) [SVC]\n",
            "Accuracy: 0.98 (+/- 0.03) [Ridge Classifier]\n",
            "Accuracy: 0.99 (+/- 0.02) [Ensemble]\n"
          ]
        }
      ],
      "source": [
        "from sklearn.ensemble import VotingClassifier\n",
        "clf = [rf, et, knn, svc, rg]\n",
        "eclf = VotingClassifier(estimators=[('Random Forests', rf), ('Extra Trees', et), ('KNeighbors', knn), ('SVC', svc), ('Ridge Classifier', rg)], voting='hard')\n",
        "for clf, label in zip([rf, et, knn, svc, rg, eclf], ['Random Forest', 'Extra Trees', 'KNeighbors', 'SVC', 'Ridge Classifier', 'Ensemble']):\n",
        "    scores = cross_val_score(clf, X, y, cv=10, scoring='accuracy')\n",
        "    print(\"Accuracy: %0.2f (+/- %0.2f) [%s]\" % (scores.mean(), scores.std(), label))"
      ]
    },
    {
      "cell_type": "markdown",
      "metadata": {
        "id": "MASSavWHWVVW"
      },
      "source": [
        "## 2.7 Boosting <a id=\"2.7\"></a> <br>\n",
        "![](https://miro.medium.com/max/2936/1*jbncjeM4CfpobEnDO0ZTjw.png)"
      ]
    },
    {
      "cell_type": "code",
      "execution_count": 68,
      "metadata": {
        "id": "yTRRyR5kWVVW",
        "trusted": true
      },
      "outputs": [],
      "source": [
        "from sklearn.datasets import load_wine\n",
        "# definindo o dataset\n",
        "X,y = load_wine().data,load_wine().target\n",
        "X_train, X_test, y_train, y_test = train_test_split(X, y, test_size=0.2, random_state=1)"
      ]
    },
    {
      "cell_type": "code",
      "execution_count": 69,
      "metadata": {
        "colab": {
          "base_uri": "https://localhost:8080/"
        },
        "id": "nY840OpHWVVW",
        "outputId": "2dd8f9bb-1dc8-4506-dad4-17d3f54ba7e1",
        "trusted": true
      },
      "outputs": [
        {
          "data": {
            "text/plain": [
              "0.8333333333333334"
            ]
          },
          "execution_count": 69,
          "metadata": {},
          "output_type": "execute_result"
        }
      ],
      "source": [
        "ada_boost = AdaBoostClassifier(random_state=1)\n",
        "ada_boost.fit(X_train, y_train)\n",
        "ada_boost.score(X_test,y_test)"
      ]
    },
    {
      "cell_type": "code",
      "execution_count": 70,
      "metadata": {
        "colab": {
          "base_uri": "https://localhost:8080/"
        },
        "id": "Xt9KfPS1WVVX",
        "outputId": "c376b4d9-e9cb-49f9-8b37-c1337303484d",
        "trusted": true
      },
      "outputs": [
        {
          "data": {
            "text/plain": [
              "0.9444444444444444"
            ]
          },
          "execution_count": 70,
          "metadata": {},
          "output_type": "execute_result"
        }
      ],
      "source": [
        "grad_boost= GradientBoostingClassifier(learning_rate=0.01,random_state=1)\n",
        "grad_boost.fit(X_train, y_train)\n",
        "grad_boost.score(X_test,y_test)"
      ]
    },
    {
      "cell_type": "code",
      "execution_count": 71,
      "metadata": {
        "colab": {
          "base_uri": "https://localhost:8080/"
        },
        "id": "wy8UDPJFWVVX",
        "outputId": "aeacf471-1a29-49b8-8574-73386a2f33aa",
        "trusted": true
      },
      "outputs": [
        {
          "data": {
            "text/plain": [
              "0.9166666666666666"
            ]
          },
          "execution_count": 71,
          "metadata": {},
          "output_type": "execute_result"
        }
      ],
      "source": [
        "xgb_boost=xgb.XGBClassifier(random_state=1,learning_rate=0.01)\n",
        "xgb_boost.fit(X_train, y_train)\n",
        "xgb_boost.score(X_test,y_test)"
      ]
    },
    {
      "cell_type": "code",
      "execution_count": 72,
      "metadata": {
        "colab": {
          "base_uri": "https://localhost:8080/"
        },
        "id": "7ZTc4Q45WVVY",
        "outputId": "e082ca6e-795e-4450-b7a9-5bd0aae44882",
        "trusted": true
      },
      "outputs": [
        {
          "name": "stdout",
          "output_type": "stream",
          "text": [
            "Acuracia: 0.92 (+/- 0.12) [Ada Boost]\n",
            "Acuracia: 0.91 (+/- 0.08) [Grad Boost]\n",
            "Acuracia: 0.93 (+/- 0.07) [XG Boost]\n",
            "Acuracia: 0.93 (+/- 0.07) [Ensemble]\n"
          ]
        }
      ],
      "source": [
        "eclf = VotingClassifier(estimators=[('Ada Boost', ada_boost), ('Grad Boost', grad_boost), ('XG Boost', xgb_boost)], voting='hard')\n",
        "clf = [rf, et, knn, svc, rg]\n",
        "for clf, label in zip([ada_boost, grad_boost, xgb_boost,eclf], ['Ada Boost','Grad Boost','XG Boost','Ensemble']):\n",
        "    scores = cross_val_score(clf, X, y, cv=10, scoring='accuracy')\n",
        "    print(\"Acuracia: %0.2f (+/- %0.2f) [%s]\" % (scores.mean(), scores.std(), label))\n"
      ]
    }
  ],
  "metadata": {
    "colab": {
      "provenance": []
    },
    "kernelspec": {
      "display_name": "Python 3",
      "language": "python",
      "name": "python3"
    },
    "language_info": {
      "codemirror_mode": {
        "name": "ipython",
        "version": 3
      },
      "file_extension": ".py",
      "mimetype": "text/x-python",
      "name": "python",
      "nbconvert_exporter": "python",
      "pygments_lexer": "ipython3",
      "version": "3.11.4"
    }
  },
  "nbformat": 4,
  "nbformat_minor": 0
}
