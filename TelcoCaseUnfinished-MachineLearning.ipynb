{
  "cells": [
    {
      "cell_type": "markdown",
      "metadata": {
        "id": "SsavpPStmggN"
      },
      "source": [
        "# DATA SCIENCE & AI (FIAP MBA) - Sabrina Otoni da Silva - 2023\n",
        "\n",
        "## Projeto nº 6 (NÃO FINALIZADO AINDA!)\n",
        "\n",
        "### Professor: Ahirton Lopes (Machine Learning: Aula 3) -- https://github.com/ahirtonlopes/Mastering-Machine-Learning\n",
        "\n",
        "#### KNN para prever rotatividade de clientes com base nas características de cada conta (churn prediction)\n",
        "\n",
        "O foco é apenas entender a aplicação do modelo. Para esta demo utilizaremos um problema clássico em ML da indústria de telecomunicações (telco's).\n",
        "\n",
        "Ref: https://www.kaggle.com/datasets/mnassrib/telecom-churn-datasets"
      ]
    },
    {
      "cell_type": "code",
      "execution_count": 1,
      "metadata": {
        "ExecuteTime": {
          "end_time": "2017-03-09T17:11:00.913456Z",
          "start_time": "2017-03-09T12:11:00.883452-05:00"
        },
        "id": "Ato0jFW2mggT"
      },
      "outputs": [],
      "source": [
        "import pandas as pd\n",
        "from sklearn.model_selection import train_test_split\n",
        "from sklearn.preprocessing import LabelBinarizer, MinMaxScaler\n",
        "from sklearn.neighbors import KNeighborsClassifier\n",
        "from sklearn.metrics import classification_report, confusion_matrix, accuracy_score"
      ]
    },
    {
      "cell_type": "code",
      "execution_count": 2,
      "metadata": {},
      "outputs": [],
      "source": [
        "data = pd.read_csv('Orange_Telco.csv', sep=',')"
      ]
    },
    {
      "cell_type": "code",
      "execution_count": 3,
      "metadata": {
        "ExecuteTime": {
          "end_time": "2017-03-09T17:11:01.087485Z",
          "start_time": "2017-03-09T12:11:01.075442-05:00"
        },
        "colab": {
          "base_uri": "https://localhost:8080/",
          "height": 255
        },
        "id": "DFDXYmz1mggV",
        "outputId": "d6d608b5-fea8-46e0-fbe4-1146407ba643"
      },
      "outputs": [
        {
          "data": {
            "text/html": [
              "<div>\n",
              "<style scoped>\n",
              "    .dataframe tbody tr th:only-of-type {\n",
              "        vertical-align: middle;\n",
              "    }\n",
              "\n",
              "    .dataframe tbody tr th {\n",
              "        vertical-align: top;\n",
              "    }\n",
              "\n",
              "    .dataframe thead th {\n",
              "        text-align: right;\n",
              "    }\n",
              "</style>\n",
              "<table border=\"1\" class=\"dataframe\">\n",
              "  <thead>\n",
              "    <tr style=\"text-align: right;\">\n",
              "      <th></th>\n",
              "      <th>state</th>\n",
              "      <th>account_length</th>\n",
              "      <th>area_code</th>\n",
              "      <th>phone_number</th>\n",
              "      <th>intl_plan</th>\n",
              "      <th>voice_mail_plan</th>\n",
              "      <th>number_vmail_messages</th>\n",
              "      <th>total_day_minutes</th>\n",
              "      <th>total_day_calls</th>\n",
              "      <th>total_day_charge</th>\n",
              "      <th>...</th>\n",
              "      <th>total_eve_calls</th>\n",
              "      <th>total_eve_charge</th>\n",
              "      <th>total_night_minutes</th>\n",
              "      <th>total_night_calls</th>\n",
              "      <th>total_night_charge</th>\n",
              "      <th>total_intl_minutes</th>\n",
              "      <th>total_intl_calls</th>\n",
              "      <th>total_intl_charge</th>\n",
              "      <th>number_customer_service_calls</th>\n",
              "      <th>churned</th>\n",
              "    </tr>\n",
              "  </thead>\n",
              "  <tbody>\n",
              "    <tr>\n",
              "      <th>0</th>\n",
              "      <td>KS</td>\n",
              "      <td>128</td>\n",
              "      <td>415</td>\n",
              "      <td>382-4657</td>\n",
              "      <td>no</td>\n",
              "      <td>yes</td>\n",
              "      <td>25</td>\n",
              "      <td>265.1</td>\n",
              "      <td>110</td>\n",
              "      <td>45.07</td>\n",
              "      <td>...</td>\n",
              "      <td>99</td>\n",
              "      <td>16.78</td>\n",
              "      <td>244.7</td>\n",
              "      <td>91</td>\n",
              "      <td>11.01</td>\n",
              "      <td>10.0</td>\n",
              "      <td>3</td>\n",
              "      <td>2.70</td>\n",
              "      <td>1</td>\n",
              "      <td>False</td>\n",
              "    </tr>\n",
              "    <tr>\n",
              "      <th>1</th>\n",
              "      <td>OH</td>\n",
              "      <td>107</td>\n",
              "      <td>415</td>\n",
              "      <td>371-7191</td>\n",
              "      <td>no</td>\n",
              "      <td>yes</td>\n",
              "      <td>26</td>\n",
              "      <td>161.6</td>\n",
              "      <td>123</td>\n",
              "      <td>27.47</td>\n",
              "      <td>...</td>\n",
              "      <td>103</td>\n",
              "      <td>16.62</td>\n",
              "      <td>254.4</td>\n",
              "      <td>103</td>\n",
              "      <td>11.45</td>\n",
              "      <td>13.7</td>\n",
              "      <td>3</td>\n",
              "      <td>3.70</td>\n",
              "      <td>1</td>\n",
              "      <td>False</td>\n",
              "    </tr>\n",
              "    <tr>\n",
              "      <th>2</th>\n",
              "      <td>NJ</td>\n",
              "      <td>137</td>\n",
              "      <td>415</td>\n",
              "      <td>358-1921</td>\n",
              "      <td>no</td>\n",
              "      <td>no</td>\n",
              "      <td>0</td>\n",
              "      <td>243.4</td>\n",
              "      <td>114</td>\n",
              "      <td>41.38</td>\n",
              "      <td>...</td>\n",
              "      <td>110</td>\n",
              "      <td>10.30</td>\n",
              "      <td>162.6</td>\n",
              "      <td>104</td>\n",
              "      <td>7.32</td>\n",
              "      <td>12.2</td>\n",
              "      <td>5</td>\n",
              "      <td>3.29</td>\n",
              "      <td>0</td>\n",
              "      <td>False</td>\n",
              "    </tr>\n",
              "    <tr>\n",
              "      <th>3</th>\n",
              "      <td>OH</td>\n",
              "      <td>84</td>\n",
              "      <td>408</td>\n",
              "      <td>375-9999</td>\n",
              "      <td>yes</td>\n",
              "      <td>no</td>\n",
              "      <td>0</td>\n",
              "      <td>299.4</td>\n",
              "      <td>71</td>\n",
              "      <td>50.90</td>\n",
              "      <td>...</td>\n",
              "      <td>88</td>\n",
              "      <td>5.26</td>\n",
              "      <td>196.9</td>\n",
              "      <td>89</td>\n",
              "      <td>8.86</td>\n",
              "      <td>6.6</td>\n",
              "      <td>7</td>\n",
              "      <td>1.78</td>\n",
              "      <td>2</td>\n",
              "      <td>False</td>\n",
              "    </tr>\n",
              "    <tr>\n",
              "      <th>4</th>\n",
              "      <td>OK</td>\n",
              "      <td>75</td>\n",
              "      <td>415</td>\n",
              "      <td>330-6626</td>\n",
              "      <td>yes</td>\n",
              "      <td>no</td>\n",
              "      <td>0</td>\n",
              "      <td>166.7</td>\n",
              "      <td>113</td>\n",
              "      <td>28.34</td>\n",
              "      <td>...</td>\n",
              "      <td>122</td>\n",
              "      <td>12.61</td>\n",
              "      <td>186.9</td>\n",
              "      <td>121</td>\n",
              "      <td>8.41</td>\n",
              "      <td>10.1</td>\n",
              "      <td>3</td>\n",
              "      <td>2.73</td>\n",
              "      <td>3</td>\n",
              "      <td>False</td>\n",
              "    </tr>\n",
              "  </tbody>\n",
              "</table>\n",
              "<p>5 rows × 21 columns</p>\n",
              "</div>"
            ],
            "text/plain": [
              "  state  account_length  area_code phone_number intl_plan voice_mail_plan  \\\n",
              "0    KS             128        415     382-4657        no             yes   \n",
              "1    OH             107        415     371-7191        no             yes   \n",
              "2    NJ             137        415     358-1921        no              no   \n",
              "3    OH              84        408     375-9999       yes              no   \n",
              "4    OK              75        415     330-6626       yes              no   \n",
              "\n",
              "   number_vmail_messages  total_day_minutes  total_day_calls  \\\n",
              "0                     25              265.1              110   \n",
              "1                     26              161.6              123   \n",
              "2                      0              243.4              114   \n",
              "3                      0              299.4               71   \n",
              "4                      0              166.7              113   \n",
              "\n",
              "   total_day_charge  ...  total_eve_calls  total_eve_charge  \\\n",
              "0             45.07  ...               99             16.78   \n",
              "1             27.47  ...              103             16.62   \n",
              "2             41.38  ...              110             10.30   \n",
              "3             50.90  ...               88              5.26   \n",
              "4             28.34  ...              122             12.61   \n",
              "\n",
              "   total_night_minutes  total_night_calls  total_night_charge  \\\n",
              "0                244.7                 91               11.01   \n",
              "1                254.4                103               11.45   \n",
              "2                162.6                104                7.32   \n",
              "3                196.9                 89                8.86   \n",
              "4                186.9                121                8.41   \n",
              "\n",
              "   total_intl_minutes  total_intl_calls  total_intl_charge  \\\n",
              "0                10.0                 3               2.70   \n",
              "1                13.7                 3               3.70   \n",
              "2                12.2                 5               3.29   \n",
              "3                 6.6                 7               1.78   \n",
              "4                10.1                 3               2.73   \n",
              "\n",
              "   number_customer_service_calls  churned  \n",
              "0                              1    False  \n",
              "1                              1    False  \n",
              "2                              0    False  \n",
              "3                              2    False  \n",
              "4                              3    False  \n",
              "\n",
              "[5 rows x 21 columns]"
            ]
          },
          "execution_count": 3,
          "metadata": {},
          "output_type": "execute_result"
        }
      ],
      "source": [
        "data.head()"
      ]
    },
    {
      "cell_type": "markdown",
      "metadata": {},
      "source": [
        "Os dados contêm um estado, código de área (zip code) e número de telefone. Você acha que esses são recursos bons o suficiente a serem usados para a criação de um modelo de aprendizagem de máquina? Por que sim ou por que não? Neste exemplo, nós não os utilizaremos, logo, descartaremos esses dados."
      ]
    },
    {
      "cell_type": "code",
      "execution_count": 4,
      "metadata": {
        "ExecuteTime": {
          "end_time": "2017-03-09T17:11:01.564122Z",
          "start_time": "2017-03-09T12:11:01.557967-05:00"
        },
        "id": "mPHSc6ldmggX"
      },
      "outputs": [],
      "source": [
        "data.drop(['state', 'area_code', 'phone_number'], axis=1, inplace=True)"
      ]
    },
    {
      "cell_type": "code",
      "execution_count": 5,
      "metadata": {
        "ExecuteTime": {
          "end_time": "2017-03-09T17:11:02.585712Z",
          "start_time": "2017-03-09T12:11:02.579981-05:00"
        },
        "colab": {
          "base_uri": "https://localhost:8080/"
        },
        "id": "AkH4siBOmgga",
        "outputId": "6a610b3f-a1f2-41b9-d977-804c4be1db1c"
      },
      "outputs": [
        {
          "data": {
            "text/plain": [
              "Index(['account_length', 'intl_plan', 'voice_mail_plan',\n",
              "       'number_vmail_messages', 'total_day_minutes', 'total_day_calls',\n",
              "       'total_day_charge', 'total_eve_minutes', 'total_eve_calls',\n",
              "       'total_eve_charge', 'total_night_minutes', 'total_night_calls',\n",
              "       'total_night_charge', 'total_intl_minutes', 'total_intl_calls',\n",
              "       'total_intl_charge', 'number_customer_service_calls', 'churned'],\n",
              "      dtype='object')"
            ]
          },
          "execution_count": 5,
          "metadata": {},
          "output_type": "execute_result"
        }
      ],
      "source": [
        "data.columns"
      ]
    },
    {
      "cell_type": "markdown",
      "metadata": {
        "id": "eA3XqCe_mggd"
      },
      "source": [
        "## Pré Processamento\n",
        "\n",
        "* Algumas das colunas são dados categóricos e outras são floats. Esses recursos precisarão ser codificados numericamente;\n",
        "\n",
        "* Finalmente, lembre-se que para aplicação correta do alg. KNN os dados devem estar em escala;\n",
        "\n",
        "* Logo, escalaremos os dados usando um dos métodos de dimensionamento existentes no Scikitlearn;\n",
        "\n",
        "* Estaremos, primeiramente, binarizando as colunas 'intl_plan', 'voice_mail_plan' e 'churned'.\n",
        "\n",
        "Ref. https://scikit-learn.org/stable/modules/preprocessing.html"
      ]
    },
    {
      "cell_type": "code",
      "execution_count": 6,
      "metadata": {
        "ExecuteTime": {
          "end_time": "2017-03-09T17:11:04.545751Z",
          "start_time": "2017-03-09T12:11:04.509105-05:00"
        },
        "id": "TvOG4APPmgge"
      },
      "outputs": [],
      "source": [
        "lb = LabelBinarizer()\n",
        "\n",
        "for col in ['intl_plan', 'voice_mail_plan', 'churned']:\n",
        "    data[col] = lb.fit_transform(data[col])"
      ]
    },
    {
      "cell_type": "code",
      "execution_count": 7,
      "metadata": {
        "ExecuteTime": {
          "end_time": "2017-03-09T17:11:04.736451Z",
          "start_time": "2017-03-09T12:11:04.718049-05:00"
        },
        "id": "iv36YBrNmggh"
      },
      "outputs": [],
      "source": [
        "import warnings\n",
        "warnings.filterwarnings('ignore', module='sklearn')"
      ]
    },
    {
      "cell_type": "code",
      "execution_count": 8,
      "metadata": {},
      "outputs": [],
      "source": [
        "msc = MinMaxScaler()\n",
        "\n",
        "data = pd.DataFrame(msc.fit_transform(data), columns=data.columns)"
      ]
    },
    {
      "cell_type": "code",
      "execution_count": 9,
      "metadata": {},
      "outputs": [
        {
          "data": {
            "text/html": [
              "<div>\n",
              "<style scoped>\n",
              "    .dataframe tbody tr th:only-of-type {\n",
              "        vertical-align: middle;\n",
              "    }\n",
              "\n",
              "    .dataframe tbody tr th {\n",
              "        vertical-align: top;\n",
              "    }\n",
              "\n",
              "    .dataframe thead th {\n",
              "        text-align: right;\n",
              "    }\n",
              "</style>\n",
              "<table border=\"1\" class=\"dataframe\">\n",
              "  <thead>\n",
              "    <tr style=\"text-align: right;\">\n",
              "      <th></th>\n",
              "      <th>account_length</th>\n",
              "      <th>intl_plan</th>\n",
              "      <th>voice_mail_plan</th>\n",
              "      <th>number_vmail_messages</th>\n",
              "      <th>total_day_minutes</th>\n",
              "      <th>total_day_calls</th>\n",
              "      <th>total_day_charge</th>\n",
              "      <th>total_eve_minutes</th>\n",
              "      <th>total_eve_calls</th>\n",
              "      <th>total_eve_charge</th>\n",
              "      <th>total_night_minutes</th>\n",
              "      <th>total_night_calls</th>\n",
              "      <th>total_night_charge</th>\n",
              "      <th>total_intl_minutes</th>\n",
              "      <th>total_intl_calls</th>\n",
              "      <th>total_intl_charge</th>\n",
              "      <th>number_customer_service_calls</th>\n",
              "      <th>churned</th>\n",
              "    </tr>\n",
              "  </thead>\n",
              "  <tbody>\n",
              "    <tr>\n",
              "      <th>0</th>\n",
              "      <td>0.524793</td>\n",
              "      <td>0.0</td>\n",
              "      <td>1.0</td>\n",
              "      <td>0.480769</td>\n",
              "      <td>0.754196</td>\n",
              "      <td>0.666667</td>\n",
              "      <td>0.754183</td>\n",
              "      <td>0.542755</td>\n",
              "      <td>0.582353</td>\n",
              "      <td>0.542866</td>\n",
              "      <td>0.619494</td>\n",
              "      <td>0.520000</td>\n",
              "      <td>0.619584</td>\n",
              "      <td>0.500</td>\n",
              "      <td>0.15</td>\n",
              "      <td>0.500000</td>\n",
              "      <td>0.111111</td>\n",
              "      <td>0.0</td>\n",
              "    </tr>\n",
              "    <tr>\n",
              "      <th>1</th>\n",
              "      <td>0.438017</td>\n",
              "      <td>0.0</td>\n",
              "      <td>1.0</td>\n",
              "      <td>0.500000</td>\n",
              "      <td>0.459744</td>\n",
              "      <td>0.745455</td>\n",
              "      <td>0.459672</td>\n",
              "      <td>0.537531</td>\n",
              "      <td>0.605882</td>\n",
              "      <td>0.537690</td>\n",
              "      <td>0.644051</td>\n",
              "      <td>0.588571</td>\n",
              "      <td>0.644344</td>\n",
              "      <td>0.685</td>\n",
              "      <td>0.15</td>\n",
              "      <td>0.685185</td>\n",
              "      <td>0.111111</td>\n",
              "      <td>0.0</td>\n",
              "    </tr>\n",
              "    <tr>\n",
              "      <th>2</th>\n",
              "      <td>0.561983</td>\n",
              "      <td>0.0</td>\n",
              "      <td>0.0</td>\n",
              "      <td>0.000000</td>\n",
              "      <td>0.692461</td>\n",
              "      <td>0.690909</td>\n",
              "      <td>0.692436</td>\n",
              "      <td>0.333242</td>\n",
              "      <td>0.647059</td>\n",
              "      <td>0.333225</td>\n",
              "      <td>0.411646</td>\n",
              "      <td>0.594286</td>\n",
              "      <td>0.411930</td>\n",
              "      <td>0.610</td>\n",
              "      <td>0.25</td>\n",
              "      <td>0.609259</td>\n",
              "      <td>0.000000</td>\n",
              "      <td>0.0</td>\n",
              "    </tr>\n",
              "    <tr>\n",
              "      <th>3</th>\n",
              "      <td>0.342975</td>\n",
              "      <td>1.0</td>\n",
              "      <td>0.0</td>\n",
              "      <td>0.000000</td>\n",
              "      <td>0.851778</td>\n",
              "      <td>0.430303</td>\n",
              "      <td>0.851740</td>\n",
              "      <td>0.170195</td>\n",
              "      <td>0.517647</td>\n",
              "      <td>0.170171</td>\n",
              "      <td>0.498481</td>\n",
              "      <td>0.508571</td>\n",
              "      <td>0.498593</td>\n",
              "      <td>0.330</td>\n",
              "      <td>0.35</td>\n",
              "      <td>0.329630</td>\n",
              "      <td>0.222222</td>\n",
              "      <td>0.0</td>\n",
              "    </tr>\n",
              "    <tr>\n",
              "      <th>4</th>\n",
              "      <td>0.305785</td>\n",
              "      <td>1.0</td>\n",
              "      <td>0.0</td>\n",
              "      <td>0.000000</td>\n",
              "      <td>0.474253</td>\n",
              "      <td>0.684848</td>\n",
              "      <td>0.474230</td>\n",
              "      <td>0.407754</td>\n",
              "      <td>0.717647</td>\n",
              "      <td>0.407959</td>\n",
              "      <td>0.473165</td>\n",
              "      <td>0.691429</td>\n",
              "      <td>0.473270</td>\n",
              "      <td>0.505</td>\n",
              "      <td>0.15</td>\n",
              "      <td>0.505556</td>\n",
              "      <td>0.333333</td>\n",
              "      <td>0.0</td>\n",
              "    </tr>\n",
              "  </tbody>\n",
              "</table>\n",
              "</div>"
            ],
            "text/plain": [
              "   account_length  intl_plan  voice_mail_plan  number_vmail_messages  \\\n",
              "0        0.524793        0.0              1.0               0.480769   \n",
              "1        0.438017        0.0              1.0               0.500000   \n",
              "2        0.561983        0.0              0.0               0.000000   \n",
              "3        0.342975        1.0              0.0               0.000000   \n",
              "4        0.305785        1.0              0.0               0.000000   \n",
              "\n",
              "   total_day_minutes  total_day_calls  total_day_charge  total_eve_minutes  \\\n",
              "0           0.754196         0.666667          0.754183           0.542755   \n",
              "1           0.459744         0.745455          0.459672           0.537531   \n",
              "2           0.692461         0.690909          0.692436           0.333242   \n",
              "3           0.851778         0.430303          0.851740           0.170195   \n",
              "4           0.474253         0.684848          0.474230           0.407754   \n",
              "\n",
              "   total_eve_calls  total_eve_charge  total_night_minutes  total_night_calls  \\\n",
              "0         0.582353          0.542866             0.619494           0.520000   \n",
              "1         0.605882          0.537690             0.644051           0.588571   \n",
              "2         0.647059          0.333225             0.411646           0.594286   \n",
              "3         0.517647          0.170171             0.498481           0.508571   \n",
              "4         0.717647          0.407959             0.473165           0.691429   \n",
              "\n",
              "   total_night_charge  total_intl_minutes  total_intl_calls  \\\n",
              "0            0.619584               0.500              0.15   \n",
              "1            0.644344               0.685              0.15   \n",
              "2            0.411930               0.610              0.25   \n",
              "3            0.498593               0.330              0.35   \n",
              "4            0.473270               0.505              0.15   \n",
              "\n",
              "   total_intl_charge  number_customer_service_calls  churned  \n",
              "0           0.500000                       0.111111      0.0  \n",
              "1           0.685185                       0.111111      0.0  \n",
              "2           0.609259                       0.000000      0.0  \n",
              "3           0.329630                       0.222222      0.0  \n",
              "4           0.505556                       0.333333      0.0  "
            ]
          },
          "execution_count": 9,
          "metadata": {},
          "output_type": "execute_result"
        }
      ],
      "source": [
        "data.head()"
      ]
    },
    {
      "cell_type": "markdown",
      "metadata": {
        "id": "pHd3d2lImggj"
      },
      "source": [
        "## Ajuste do modelo\n",
        "\n",
        "* Agora vamos separar as colunas de recursos (ou seja, tudo exceto nosso \"alvo\" 'churned') do rótulo ('churned');\n",
        "\n",
        "* Estaremos criando duas tabelas;\n",
        "\n",
        "* Ajustaremos um modelo de K vizinhos mais próximos com um valor de 'k = 3' a esses dados e vamos predizer o resultado nos mesmos dados.\n",
        "\n",
        "[Observação] Normalmente os valores de K tendem a ser ímpares. O k, no algoritmo KNN, representa o número de vizinhos mais próximos com os quais estamos comparando um determinado ponto de dados. Portanto, não importa se você tem 2 ou n classes, se você escolhe um mesmo k, há um risco de empate na decisão de qual classe você deve definir uma nova instância."
      ]
    },
    {
      "cell_type": "code",
      "execution_count": 10,
      "metadata": {
        "ExecuteTime": {
          "end_time": "2017-03-09T17:11:50.280188Z",
          "start_time": "2017-03-09T12:11:50.269326-05:00"
        },
        "id": "LqE-ky95mggk"
      },
      "outputs": [],
      "source": [
        "x_cols = [x for x in data.columns if x != 'churned']\n",
        "\n",
        "X_data = data[x_cols]\n",
        "y_data = data['churned']"
      ]
    },
    {
      "cell_type": "code",
      "execution_count": 11,
      "metadata": {
        "ExecuteTime": {
          "end_time": "2017-03-09T17:11:50.989446Z",
          "start_time": "2017-03-09T12:11:50.498708-05:00"
        },
        "id": "9tddHtZhmggm"
      },
      "outputs": [],
      "source": [
        "knn = KNeighborsClassifier(n_neighbors=3)\n",
        "\n",
        "knn = knn.fit(X_data, y_data)\n",
        "\n",
        "y_pred = knn.predict(X_data.values)"
      ]
    },
    {
      "cell_type": "markdown",
      "metadata": {
        "id": "gaKWQl4Ymggp"
      },
      "source": [
        "## Verificação quanto a Acurácia/Matriz de Confusão I\n",
        "\n",
        "A Acurácia por si só é simplesmente a porcentagem de rótulos que foram previstos corretamente (verdadeiros ou falsos).\n",
        "\n",
        "* Vamos então escrever uma função para calcular a precisão usando os rótulos reais e preditos;\n",
        "\n",
        "* Usando a função, vamos calcular a precisão desse modelo de K vizinho mais próximos em nossos dados."
      ]
    },
    {
      "cell_type": "code",
      "execution_count": 12,
      "metadata": {
        "ExecuteTime": {
          "end_time": "2017-03-09T17:11:50.997204Z",
          "start_time": "2017-03-09T12:11:50.991392-05:00"
        },
        "id": "TPzP49V8mggp"
      },
      "outputs": [],
      "source": [
        "#Função para calcular a % de valores previstos corretamente\n",
        "def accuracy(real, predict):\n",
        "    return sum(y_data == y_pred) / float(real.shape[0])"
      ]
    },
    {
      "cell_type": "code",
      "execution_count": 13,
      "metadata": {
        "colab": {
          "base_uri": "https://localhost:8080/"
        },
        "id": "7l_q0AgAihxU",
        "outputId": "92881d01-1b45-42d2-e3f8-0e172b12590c"
      },
      "outputs": [
        {
          "name": "stdout",
          "output_type": "stream",
          "text": [
            "[[4263   30]\n",
            " [ 259  448]]\n"
          ]
        }
      ],
      "source": [
        "print(confusion_matrix(y_data, y_pred))"
      ]
    },
    {
      "cell_type": "code",
      "execution_count": 14,
      "metadata": {
        "colab": {
          "base_uri": "https://localhost:8080/"
        },
        "id": "DaxnUgj2iyvd",
        "outputId": "4549b23f-07b1-478f-da04-55b70d4b30dd"
      },
      "outputs": [
        {
          "name": "stdout",
          "output_type": "stream",
          "text": [
            "              precision    recall  f1-score   support\n",
            "\n",
            "         0.0       0.94      0.99      0.97      4293\n",
            "         1.0       0.94      0.63      0.76       707\n",
            "\n",
            "    accuracy                           0.94      5000\n",
            "   macro avg       0.94      0.81      0.86      5000\n",
            "weighted avg       0.94      0.94      0.94      5000\n",
            "\n"
          ]
        }
      ],
      "source": [
        "print(classification_report(y_data,y_pred))"
      ]
    },
    {
      "cell_type": "code",
      "execution_count": 15,
      "metadata": {
        "ExecuteTime": {
          "end_time": "2017-03-09T17:11:51.128466Z",
          "start_time": "2017-03-09T12:11:51.115874-05:00"
        },
        "colab": {
          "base_uri": "https://localhost:8080/"
        },
        "id": "sP7Bov9cmggs",
        "outputId": "6ce42944-be9b-4eb0-b5ee-6771c079af64"
      },
      "outputs": [
        {
          "name": "stdout",
          "output_type": "stream",
          "text": [
            "0.9422\n"
          ]
        }
      ],
      "source": [
        "print(accuracy_score(y_data, y_pred))"
      ]
    },
    {
      "cell_type": "markdown",
      "metadata": {
        "id": "y-67SwNoPYY1"
      },
      "source": [
        "## Ajuste do Modelo II\n",
        "\n",
        "No exemplo da célula anterior acabamos nos deparando com um erro muito comum, qual foi? acabamos predizendo e treinando e testando nosso modelo nos mesmos dados.\n",
        "\n",
        "Vamos arrumar!\n"
      ]
    },
    {
      "cell_type": "code",
      "execution_count": 16,
      "metadata": {
        "id": "V8mw7tMWP9X3"
      },
      "outputs": [],
      "source": [
        "X = data.iloc[:,[0,1,2,3,4,5,6,7,8,9,10,11,12,13,14,15,16]].values\n",
        "y = data.iloc[:,17].values"
      ]
    },
    {
      "cell_type": "code",
      "execution_count": 17,
      "metadata": {
        "id": "U48x6vzahsJy"
      },
      "outputs": [],
      "source": [
        "X_train, X_test, y_train, y_test = train_test_split(X, y, test_size = .3, random_state=25)"
      ]
    },
    {
      "cell_type": "code",
      "execution_count": 18,
      "metadata": {
        "id": "dDVA1RUJd3tC"
      },
      "outputs": [],
      "source": [
        "knn = KNeighborsClassifier(n_neighbors=3)\n",
        "\n",
        "knn = knn.fit(X_train, y_train)\n",
        "\n",
        "pred = knn.predict(X_test)"
      ]
    },
    {
      "cell_type": "markdown",
      "metadata": {
        "id": "XhSfBbT5iZIU"
      },
      "source": [
        "# Verificação quanto a Acurácia/Matriz de Confusão II"
      ]
    },
    {
      "cell_type": "code",
      "execution_count": 19,
      "metadata": {
        "colab": {
          "base_uri": "https://localhost:8080/"
        },
        "id": "LfDS7nNNh92E",
        "outputId": "a03f7b9f-7d19-46a7-efae-110e6ed8e183"
      },
      "outputs": [
        {
          "name": "stdout",
          "output_type": "stream",
          "text": [
            "[[1262   29]\n",
            " [ 114   95]]\n"
          ]
        }
      ],
      "source": [
        "print(confusion_matrix(y_test,pred))"
      ]
    },
    {
      "cell_type": "code",
      "execution_count": 20,
      "metadata": {
        "colab": {
          "base_uri": "https://localhost:8080/"
        },
        "id": "NflZZFKhiIF5",
        "outputId": "0fccbc54-dbb9-4f5e-84fa-2114059ca26a"
      },
      "outputs": [
        {
          "name": "stdout",
          "output_type": "stream",
          "text": [
            "              precision    recall  f1-score   support\n",
            "\n",
            "         0.0       0.92      0.98      0.95      1291\n",
            "         1.0       0.77      0.45      0.57       209\n",
            "\n",
            "    accuracy                           0.90      1500\n",
            "   macro avg       0.84      0.72      0.76      1500\n",
            "weighted avg       0.90      0.90      0.89      1500\n",
            "\n"
          ]
        }
      ],
      "source": [
        "print(classification_report(y_test,pred))"
      ]
    },
    {
      "cell_type": "code",
      "execution_count": 21,
      "metadata": {
        "colab": {
          "base_uri": "https://localhost:8080/"
        },
        "id": "da4aieg-jBJk",
        "outputId": "756dd896-eda7-4ede-a8cd-e4c0524c6063"
      },
      "outputs": [
        {
          "name": "stdout",
          "output_type": "stream",
          "text": [
            "0.9046666666666666\n"
          ]
        }
      ],
      "source": [
        "print(accuracy_score(y_test, pred))"
      ]
    },
    {
      "cell_type": "markdown",
      "metadata": {
        "id": "oqqzxU5NVsqB"
      },
      "source": [
        "*[Desafio]*\n",
        "\n",
        "### Nas células a seguir, tente melhorar os resultados alcançados, observando a métrica F1 score.\n",
        "\n",
        "Alguns processos e técnicas que podem ser utilizados:\n",
        "\n",
        "- Utilização de técnicas de oversampling para lidar com o dataset desabalanceado (ref: https://machinelearningmastery.com/smote-oversampling-for-imbalanced-classification/ // ref: https://machinelearningmastery.com/tactics-to-combat-imbalanced-classes-in-your-machine-learning-dataset);\n",
        "\n",
        "(Dica: bases desbalanceadas são muito comuns em problemas de detecção de anomalias! - ref: https://www.analyticsvidhya.com/blog/2017/03/imbalanced-data-classification/);\n",
        "\n",
        "- Utilização de técnicas de engenharia de atributos, verificação de outliers, one-hot-encoding (ref: https://towardsdatascience.com/feature-engineering-for-machine-learning-3a5e293a5114);\n",
        "\n",
        "- Redução de dimensionalidade de atributos (ref: https://towardsdatascience.com/all-you-need-to-know-about-pca-technique-in-machine-learning-443b0c2be9a1)."
      ]
    },
    {
      "cell_type": "code",
      "execution_count": null,
      "metadata": {
        "id": "fv28uIH-YO6z"
      },
      "outputs": [],
      "source": []
    }
  ],
  "metadata": {
    "anaconda-cloud": {},
    "colab": {
      "provenance": []
    },
    "kernelspec": {
      "display_name": "Python 3",
      "language": "python",
      "name": "python3"
    },
    "language_info": {
      "codemirror_mode": {
        "name": "ipython",
        "version": 3
      },
      "file_extension": ".py",
      "mimetype": "text/x-python",
      "name": "python",
      "nbconvert_exporter": "python",
      "pygments_lexer": "ipython3",
      "version": "3.11.4"
    },
    "name": "Linear_Regression_and_K_Nearest_Neighbors_Exercises-ANSWERS",
    "notebookId": 2125319687183902
  },
  "nbformat": 4,
  "nbformat_minor": 0
}
