{
  "cells": [
    {
      "cell_type": "markdown",
      "metadata": {
        "id": "0g_H9vjcBRkH"
      },
      "source": [
        "# DATA SCIENCE & AI (FIAP MBA) - Sabrina Otoni da Silva - 2023\n",
        "\n",
        "## Projeto nº 10\n",
        "\n",
        "### Professor: Ahirton Lopes (Machine Learning: Aula 1) -- https://github.com/ahirtonlopes/Mastering-Machine-Learning\n",
        "\n",
        "#### Algoritmo Genético para construção de frase alvo"
      ]
    },
    {
      "cell_type": "markdown",
      "metadata": {
        "id": "cDOLZx24AydH"
      },
      "source": [
        "Começamos com um conjunto genérico de letras como nosso set de genes e uma \"alvo\" de destino, no caso uma frase. Poderiam ser também caracteres dentre outros tipos de dados.\n",
        "\n",
        "Exemplo:\n",
        "\n",
        "https://www.researchgate.net/publication/334279473_Aplicacao_de_Algoritmo_Genetico_para_Reconhecimento_de_Padroes_Roletas_de_Las_Vegas_e_Atlantic_City_a_Computacao_Natural)"
      ]
    },
    {
      "cell_type": "code",
      "execution_count": 1,
      "metadata": {
        "id": "5CXLyy82AydI"
      },
      "outputs": [],
      "source": [
        "geneSet = \" abcdefghijklmnopqrstuvwxyzABCDEFGHIJKLMNOPQRSTUVWXYZ!.\"\n",
        "target = \"hello world!\""
      ]
    },
    {
      "cell_type": "markdown",
      "metadata": {
        "id": "8LLSm_6dAydL"
      },
      "source": [
        "## Generando um \"palpite\"\n",
        "\n",
        "Em seguida, precisamos de uma maneira de gerar uma seqüência aleatória de letras a partir do conjunto de genes."
      ]
    },
    {
      "cell_type": "code",
      "execution_count": 2,
      "metadata": {
        "id": "r3fxv_hRAydL"
      },
      "outputs": [],
      "source": [
        "import random\n",
        "\n",
        "def generate_parent(length):\n",
        "    genes = []\n",
        "    while len(genes) < length:\n",
        "        sampleSize = min(length - len(genes), len(geneSet))\n",
        "        genes.extend(random.sample(geneSet, sampleSize))\n",
        "    return ''.join(genes)"
      ]
    },
    {
      "cell_type": "markdown",
      "metadata": {
        "id": "ToPiT63aAydN"
      },
      "source": [
        "random.sample pega valores sampleSize da entrada sem substituição. Isso significa que não haverá duplicatas no pai gerado, a menos que o geneSet contenha duplicatas ou o tamanho seja maior que len (geneSet). A implementação acima nos permite gerar uma longa string com um pequeno conjunto de genes, usando o maior número possível de genes únicos."
      ]
    },
    {
      "cell_type": "markdown",
      "metadata": {
        "id": "LUiApuHBAydO"
      },
      "source": [
        "## Fitness\n",
        "\n",
        "O valor de adequação ou adaptação que o algoritmo genético fornece é o único feedback que o mecanismo obtém para guiá-lo em direção\n",
        "a uma solução. Nesse problema, nosso valor de adequação é o número total de letras no palpite que correspondem à letra\n",
        "na mesma posição da senha."
      ]
    },
    {
      "cell_type": "code",
      "execution_count": 3,
      "metadata": {
        "id": "kUkICUSIAydP"
      },
      "outputs": [],
      "source": [
        "def get_fitness(guess):\n",
        "    return sum(1 for expected, actual in zip(target, guess)\n",
        "               if expected == actual)"
      ]
    },
    {
      "cell_type": "markdown",
      "metadata": {
        "id": "JL5-rEyZAydR"
      },
      "source": [
        "## Mutação\n",
        "\n",
        "Também precisamos de uma maneira de produzir um novo palpite, alterando o atual. A implementação a seguir converte a string pai em uma matriz com list (parent), em seguida, substitui 1 letra na matriz selecionada aleatoriamente de geneSet e, em seguida, recombina o resultado em uma string com '' .join (genes)."
      ]
    },
    {
      "cell_type": "code",
      "execution_count": 4,
      "metadata": {
        "id": "bivU8kmPAydR"
      },
      "outputs": [],
      "source": [
        "def mutate(parent):\n",
        "    index = random.randrange(0, len(parent))\n",
        "    childGenes = list(parent)\n",
        "    newGene, alternate = random.sample(geneSet, 2)\n",
        "    childGenes[index] = alternate \\\n",
        "        if newGene == childGenes[index] \\\n",
        "        else newGene\n",
        "    return ''.join(childGenes)"
      ]
    },
    {
      "cell_type": "markdown",
      "metadata": {
        "id": "vKvEYmI9AydT"
      },
      "source": [
        "Essa implementação usa uma substituição alternativa se o newGene selecionado aleatoriamente for o mesmo que o que\n",
        "deve substituir, o que pode economizar uma quantidade significativa de sobrecarga."
      ]
    },
    {
      "cell_type": "markdown",
      "metadata": {
        "id": "Xsca0WRpAydU"
      },
      "source": [
        "## Display\n",
        "\n",
        "Em seguida, é importante monitorar o que está acontecendo, para que possamos parar o mecanismo se ele ficar preso. Também nos permite aprender o que funciona e o que não funciona para que possamos melhorar o algoritmo.\n",
        "\n",
        "Vamos exibir uma representação visual da sequência do gene, que pode não ser a seqüência do gene literal, seu valor de adequação e quanto tempo se passou."
      ]
    },
    {
      "cell_type": "code",
      "execution_count": 5,
      "metadata": {
        "id": "LvJOjaToAydV"
      },
      "outputs": [],
      "source": [
        "import datetime\n",
        "\n",
        "def display(guess):\n",
        "    timeDiff = datetime.datetime.now() - startTime\n",
        "    fitness = get_fitness(guess)\n",
        "    print(\"{0}\\t{1}\\t{2}\".format(guess, fitness, str(timeDiff)))"
      ]
    },
    {
      "cell_type": "markdown",
      "metadata": {
        "id": "HqHkMjKYAydX"
      },
      "source": [
        "## Main\n",
        "\n",
        "Agora estamos prontos para escrever o programa principal. Começamos inicializando o bestParent com uma sequência aleatória de letras."
      ]
    },
    {
      "cell_type": "code",
      "execution_count": 6,
      "metadata": {
        "colab": {
          "base_uri": "https://localhost:8080/"
        },
        "id": "X_Cz81sWAydX",
        "outputId": "fe70013f-a48d-43e5-a037-38c49c86ab30"
      },
      "outputs": [
        {
          "name": "stdout",
          "output_type": "stream",
          "text": [
            "DVHIBhi.yNOf\t0\t0:00:00\n"
          ]
        }
      ],
      "source": [
        "random.seed()\n",
        "startTime = datetime.datetime.now()\n",
        "bestParent = generate_parent(len(target))\n",
        "bestFitness = get_fitness(bestParent)\n",
        "display(bestParent)"
      ]
    },
    {
      "cell_type": "markdown",
      "metadata": {
        "id": "rtsgq953Aydb"
      },
      "source": [
        "Então nós adicionamos o coração do motor genético. É um loop que gera um palpite, solicita a adequação para esse palpite, compara-o ao do palpite anterior e mantém o melhor dos dois. Este ciclo se repete até que todas as letras coincidam com as do alvo."
      ]
    },
    {
      "cell_type": "code",
      "execution_count": 7,
      "metadata": {
        "colab": {
          "base_uri": "https://localhost:8080/"
        },
        "id": "dF-zE_8lAydc",
        "outputId": "0032a0f4-2437-417a-9e9a-dbf59a916c12"
      },
      "outputs": [
        {
          "name": "stdout",
          "output_type": "stream",
          "text": [
            "DVHIB i.yNOf\t1\t0:00:04.062050\n",
            "DVHlB i.yNOf\t2\t0:00:04.064564\n",
            "DVHlo i.yNOf\t3\t0:00:04.065773\n",
            "DVHlo i.yNdf\t4\t0:00:04.065773\n",
            "DVHlo ioyNdf\t5\t0:00:04.065773\n",
            "DVHlo ioyldf\t6\t0:00:04.065773\n",
            "DVllo ioyldf\t7\t0:00:04.065773\n",
            "DVllo woyldf\t8\t0:00:04.065773\n",
            "hVllo woyldf\t9\t0:00:04.065773\n",
            "hello woyldf\t10\t0:00:04.070047\n",
            "hello woyld!\t11\t0:00:04.073866\n",
            "hello world!\t12\t0:00:04.080814\n",
            "2831\n"
          ]
        }
      ],
      "source": [
        "i = 0\n",
        "while True:\n",
        "    i=i+1\n",
        "    child = mutate(bestParent)\n",
        "    childFitness = get_fitness(child)\n",
        "\n",
        "    if bestFitness >= childFitness:\n",
        "        continue\n",
        "    display(child)\n",
        "    if childFitness >= len(bestParent):\n",
        "        break\n",
        "    bestFitness = childFitness\n",
        "    bestParent = child\n",
        "print(i)"
      ]
    }
  ],
  "metadata": {
    "colab": {
      "provenance": []
    },
    "kernelspec": {
      "display_name": "Python 3",
      "language": "python",
      "name": "python3"
    },
    "language_info": {
      "codemirror_mode": {
        "name": "ipython",
        "version": 3
      },
      "file_extension": ".py",
      "mimetype": "text/x-python",
      "name": "python",
      "nbconvert_exporter": "python",
      "pygments_lexer": "ipython3",
      "version": "3.11.4"
    }
  },
  "nbformat": 4,
  "nbformat_minor": 0
}
